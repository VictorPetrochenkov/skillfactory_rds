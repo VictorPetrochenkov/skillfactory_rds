{
 "cells": [
  {
   "cell_type": "markdown",
   "metadata": {},
   "source": [
    "##### Исполнение итогового задания по Проекту 3 \"О вкусной и здоровой пище\". <br>\n",
    "  Автор -  <b>Петроченков Виктор Александрович</b><br>\n",
    "  Группа SF-DST-27<br>\n",
    "  Юнит 3. Введение в машинное обучение \n",
    "\n",
    "##### Импорт библиотек"
   ]
  },
  {
   "cell_type": "code",
   "execution_count": 1,
   "metadata": {},
   "outputs": [],
   "source": [
    "import pandas as pd\n",
    "import numpy as np\n",
    "\n",
    "import regex as re\n",
    "from dateutil import parser\n",
    "\n",
    "import matplotlib.pyplot as plt\n",
    "#%matplotlib inline\n",
    "import seaborn as sns \n",
    "\n",
    "# Для работы со словарём\n",
    "from collections import OrderedDict\n",
    "from operator import itemgetter\n",
    "\n",
    "# Инструмент для разделения датасета\n",
    "from sklearn.model_selection import train_test_split\n",
    "from sklearn import preprocessing\n",
    "from sklearn.preprocessing import StandardScaler\n",
    "\n",
    "# Импортируем необходимые библиотеки:\n",
    "from sklearn.ensemble import RandomForestRegressor # инструмент для создания и обучения модели\n",
    "from sklearn import metrics # инструменты для оценки точности модели"
   ]
  },
  {
   "cell_type": "code",
   "execution_count": 2,
   "metadata": {},
   "outputs": [],
   "source": [
    "import os\n",
    "\n",
    "for dirname, _, filenames in os.walk('/kaggle/input'):\n",
    "    for filename in filenames:\n",
    "        print(os.path.join(dirname, filename))"
   ]
  },
  {
   "cell_type": "code",
   "execution_count": 3,
   "metadata": {},
   "outputs": [],
   "source": [
    "# Зафиксируем версию пакетов, чтобы эксперименты были воспроизводимы:\n",
    "RANDOM_SEED = 89\n",
    "!pip freeze > requirements.txt\n",
    "CURRENT_DATE = pd.to_datetime('14/11/2020')"
   ]
  },
  {
   "cell_type": "markdown",
   "metadata": {},
   "source": [
    "## Импорт данных\n"
   ]
  },
  {
   "cell_type": "code",
   "execution_count": 5,
   "metadata": {},
   "outputs": [],
   "source": [
    "df_train = pd.read_csv('main_task.csv')\n",
    "df_test = pd.read_csv('kaggle_task.csv')\n",
    "sample_submission = pd.read_csv('sample_submission.csv')\n",
    "df_train.info()"
   ]
  },
  {
   "cell_type": "code",
   "execution_count": null,
   "metadata": {},
   "outputs": [],
   "source": [
    "df_train.head(5)"
   ]
  },
  {
   "cell_type": "code",
   "execution_count": null,
   "metadata": {},
   "outputs": [],
   "source": [
    "df_test.info()"
   ]
  },
  {
   "cell_type": "code",
   "execution_count": null,
   "metadata": {},
   "outputs": [],
   "source": [
    "df_test.head(5)"
   ]
  },
  {
   "cell_type": "code",
   "execution_count": null,
   "metadata": {},
   "outputs": [],
   "source": [
    "sample_submission.head(5)"
   ]
  },
  {
   "cell_type": "code",
   "execution_count": null,
   "metadata": {},
   "outputs": [],
   "source": [
    "sample_submission.info()"
   ]
  },
  {
   "cell_type": "code",
   "execution_count": null,
   "metadata": {},
   "outputs": [],
   "source": [
    "# Для корректной обработки признаков объединяем трейн и тест в один датасет\n",
    "df_train['sample'] = 1 # помечаем где у нас трейн\n",
    "df_test['sample'] = 0 # помечаем где у нас тест\n",
    "\n",
    "data = df_test.append(df_train, sort=False).reset_index(drop=True) # объединяем\n",
    "data = pd.DataFrame(data)"
   ]
  },
  {
   "cell_type": "code",
   "execution_count": null,
   "metadata": {},
   "outputs": [],
   "source": [
    "data.info()"
   ]
  },
  {
   "cell_type": "code",
   "execution_count": null,
   "metadata": {},
   "outputs": [],
   "source": [
    "# Выводим процентный список пропущенных данных\n",
    "print('Процентный список пропущенных данных')\n",
    "for col in data.columns:\n",
    "    pct_missing = np.mean(data[col].isnull())\n",
    "    print('{} - {}%'.format(col, round(pct_missing*100)))"
   ]
  },
  {
   "cell_type": "markdown",
   "metadata": {},
   "source": [
    "#### Признаки:\n",
    "\n",
    "<b>City</b>: Город<br>\n",
    "<b>Cuisine Style</b>: Тип кухни<br>\n",
    "<b>Ranking</b>: Ранг ресторана относительно других ресторанов в этом городе<br>\n",
    "<b>Price Range</b>: Цены в ресторане в 3 категориях<br>\n",
    "<b>Number of Reviews</b>: Количество отзывов<br>\n",
    "<b>Reviews</b>: 2 последних отзыва и даты этих отзывов<br>\n",
    "<b>URL_TA</b>: страница ресторана на 'www.tripadvisor.com'<br>\n",
    "<b>ID_TA</b>: ID ресторана в TripAdvisor<br>\n",
    "<b>Rating</b>: Рейтинг ресторана<br>"
   ]
  },
  {
   "cell_type": "code",
   "execution_count": null,
   "metadata": {},
   "outputs": [],
   "source": [
    "# Выведем количество уникальных значений по столбцам\n",
    "data.nunique(dropna=False)"
   ]
  },
  {
   "cell_type": "markdown",
   "metadata": {},
   "source": [
    "Из полученных данных по количеству уникальных значений, можно сделать выводы:\n",
    "- индикационные номера ресторанов повторяются, это говорит о том, что один и тот же ресторан имеет разные значения признаков.\n",
    "- рестораны представленные в датасете находятся в тридцати одном Европейских городах"
   ]
  },
  {
   "cell_type": "code",
   "execution_count": null,
   "metadata": {},
   "outputs": [],
   "source": [
    "print('Количество пропусков: ', data['Restaurant_id'].isnull().sum())\n",
    "print('Количество уникальных значений: ', data['Restaurant_id'].nunique())"
   ]
  },
  {
   "cell_type": "code",
   "execution_count": null,
   "metadata": {},
   "outputs": [],
   "source": [
    "# Визуализируем один из ресторанов, который встречается в датасете самое большое количество раз\n",
    "data.query('Restaurant_id == \"id_871\"')"
   ]
  },
  {
   "cell_type": "markdown",
   "metadata": {},
   "source": [
    "Видим, что ресторан с id_871 представлен в 19 европейских городах и имеет достаточно высокий рейтинг."
   ]
  },
  {
   "cell_type": "markdown",
   "metadata": {},
   "source": [
    "Рассмотрим ID_TA."
   ]
  },
  {
   "cell_type": "code",
   "execution_count": null,
   "metadata": {},
   "outputs": [],
   "source": [
    "print(f'Отстутствующих данных в столбце ID_TA: {data.ID_TA.isnull().sum()}')\n",
    "print(f'Уникальных записей в столбце ID_TA: {data.ID_TA.nunique()}\\n'\n",
    "      f'Неуникальных записей в столбце ID_TA: {data.ID_TA.count() - data.ID_TA.nunique()}')"
   ]
  },
  {
   "cell_type": "markdown",
   "metadata": {},
   "source": [
    "Этот признак внутренний учётный параметр TripAdvisor и на рейтинг влияния - напрямую не оказывает. За этим параметром на сайте TripAdvisor можно получить дополнительную информацию. Неуникальные записи видимо ошибка учёта."
   ]
  },
  {
   "cell_type": "markdown",
   "metadata": {},
   "source": [
    "Столбец Cuisine Style на 23% не заполнен. Очевидно, что если заполнить пустые ячейки этого столбца типом European, то вероятность того, что в этих европейских ресторанах не подают блюда из европейской кухни ничтожна мала."
   ]
  },
  {
   "cell_type": "code",
   "execution_count": null,
   "metadata": {},
   "outputs": [],
   "source": [
    "# Заполнение пустых ячеек столбца  cuisine_style значением European\n",
    "data['Cuisine Style'] = data['Cuisine Style'].fillna(\"['European']\")"
   ]
  },
  {
   "cell_type": "code",
   "execution_count": null,
   "metadata": {},
   "outputs": [],
   "source": [
    "# Выведем данные столбца\n",
    "print('Количество пропусков: ', data['Price Range'].isnull().sum())\n",
    "print('Вид уникальных значений: ', data['Price Range'].unique())"
   ]
  },
  {
   "cell_type": "markdown",
   "metadata": {},
   "source": [
    "    Значения столбца имеют вид знака доллара, в виде его количества. Этот способ информирования говорит об разрядности ценового диапазона. Один знак $ обозначает, что можно поесть до 99$, два знака $$ до 999$, диапазон $$ - $$$ даёт знать, что покушать хорошо можно от 100 до 1000 $, в самые дорогие рестораны заходить покушать хорошо, без актива на кредитной карте меньше, чем 10000$ не стоит.\n",
    "    Пустые ячейки заполним $$ (т.е. если у Вас есть евро в пересчёте на 1000$), то в даже очень дорогом ресторане вам удастся перекусить пиццей."
   ]
  },
  {
   "cell_type": "code",
   "execution_count": null,
   "metadata": {},
   "outputs": [],
   "source": [
    "# Заполним пустые ячейки столбца price_range значение редним значением цнового диапазона $$, считая что за максимум 100 $\n",
    "# на одного достаточно.\n",
    "data['Price Range'] = data['Price Range'].fillna('$$')"
   ]
  },
  {
   "cell_type": "code",
   "execution_count": null,
   "metadata": {},
   "outputs": [],
   "source": [
    "# На этом этапе пустых ячеек столбца Number of Reviews 6%, заполним пустые ячейки нулём.\n",
    "data['Number of Reviews'] = data['Number of Reviews'].fillna(0)"
   ]
  },
  {
   "cell_type": "code",
   "execution_count": null,
   "metadata": {},
   "outputs": [],
   "source": [
    "print('Процентный список пропущенных данных')\n",
    "for col in data.columns:\n",
    "    pct_missing = np.mean(data[col].isnull())\n",
    "    print('{} - {}%'.format(col, round(pct_missing*100)))"
   ]
  },
  {
   "cell_type": "markdown",
   "metadata": {},
   "source": [
    "##### Пропушенных данных в исходном датасете нет. Имеются 20% незаполненных данных в столбце Rating - это целевой показатель, его корректировать не будем."
   ]
  },
  {
   "cell_type": "markdown",
   "metadata": {},
   "source": [
    "## Визуализируем некоторые признаки датасета"
   ]
  },
  {
   "cell_type": "code",
   "execution_count": null,
   "metadata": {},
   "outputs": [],
   "source": [
    "plt.rcParams['figure.figsize'] = (10,6)\n",
    "# График - количество ресторанов в городах\n",
    "data['City'].value_counts().plot(kind='barh')\n",
    "\n",
    "# Получаем полный список городов представленных в датасете\n",
    "city = dict(data['City'].value_counts())\n",
    "city_pop = city.copy()\n",
    "print(city)"
   ]
  },
  {
   "cell_type": "markdown",
   "metadata": {},
   "source": [
    "Основное количество ресторанов расположены в Великобритании, Франции и Испании."
   ]
  },
  {
   "cell_type": "code",
   "execution_count": null,
   "metadata": {},
   "outputs": [],
   "source": [
    "# График количества ресторанов в зависимости от ранга\n",
    "data['Ranking'].hist(bins=20)\n",
    "print('Максимальный ранг: ',data['Ranking'].max(),'  Минимальный ранг: ',data['Ranking'].min())"
   ]
  },
  {
   "cell_type": "markdown",
   "metadata": {},
   "source": [
    "Видим, что основное количестов ресторанов имею ранг 2500.\n",
    "#### Визуализируем признак Rating по отношению к городам"
   ]
  },
  {
   "cell_type": "code",
   "execution_count": null,
   "metadata": {},
   "outputs": [],
   "source": [
    "# Гистограмма распределения занчения Ranking ресторанов находящихся в городе Лондон.\n",
    "data['Ranking'][data['City'] =='London'].hist(bins=20)"
   ]
  },
  {
   "cell_type": "markdown",
   "metadata": {},
   "source": [
    "Распределение нормальное.Проверим по другим городам."
   ]
  },
  {
   "cell_type": "code",
   "execution_count": null,
   "metadata": {},
   "outputs": [],
   "source": [
    "# посмотрим на топ 15 городов\n",
    "for x in (data['City'].value_counts())[0:15].index:\n",
    "    data['Ranking'][data['City'] == x].hist(bins=20)\n",
    "plt.show()"
   ]
  },
  {
   "cell_type": "markdown",
   "metadata": {},
   "source": [
    "Видим, что независимо от городов сохраняется нормальное распределение признака Ranking."
   ]
  },
  {
   "cell_type": "code",
   "execution_count": null,
   "metadata": {},
   "outputs": [],
   "source": [
    "# График распределения целевой переменной\n",
    "data['Rating'].value_counts(ascending=True).plot(kind='barh')\n",
    "print('Максимальный рейтинг: ',data['Rating'].max(),'  Минимальный рейтинг: ',data['Rating'].min())"
   ]
  },
  {
   "cell_type": "markdown",
   "metadata": {},
   "source": [
    "Датасет представленных ресторанов в основном с хорошим рейтингом, основное количество ресторанов имеют рейтинг не ниже 3 (максимальный рейтинг 5)."
   ]
  },
  {
   "cell_type": "code",
   "execution_count": null,
   "metadata": {},
   "outputs": [],
   "source": [
    "# Проверяем датасет на наличие дубликатов строк\n",
    "data[data.duplicated()]"
   ]
  },
  {
   "cell_type": "markdown",
   "metadata": {},
   "source": [
    "#### Дубликатов строк нет"
   ]
  },
  {
   "cell_type": "markdown",
   "metadata": {},
   "source": [
    "### Проверяем столбцы датасета на наличие выбросов"
   ]
  },
  {
   "cell_type": "code",
   "execution_count": null,
   "metadata": {},
   "outputs": [],
   "source": [
    "# Формируем список наименований столбцов имеющие числовой тип данных\n",
    "list_col =[]\n",
    "for x in data.columns:\n",
    "    if data[x].dtype == 'float64' or data[x].dtype == 'int64' or data[x].dtype == 'uint8':\n",
    "        list_col.append(x)\n",
    "list_col"
   ]
  },
  {
   "cell_type": "code",
   "execution_count": null,
   "metadata": {},
   "outputs": [],
   "source": [
    "# Расчёт выбросов по столбцам\n",
    "for y in list_col:\n",
    "    Q1_date = data[y].quantile(.25)\n",
    "    Q3_date = data[y].quantile(.75)\n",
    "    q1_date = Q1_date-1.5*(Q3_date-Q1_date)\n",
    "    q3_date = Q3_date+1.5*(Q3_date-Q1_date)\n",
    "    min_q = [x for x in data[y] if x < q1_date]\n",
    "    max_q = [x for x in data[y] if x > q3_date]\n",
    "    if len(min_q) == 0 and len(max_q):\n",
    "        print('Столбец ', y, ' выбросов не имеет')\n",
    "    else:\n",
    "        print('Столбец ', y, ' имеет', len(min_q) + len(max_q), 'выбросов')    "
   ]
  },
  {
   "cell_type": "markdown",
   "metadata": {},
   "source": [
    "### Выбросы присутствуют только в целевом показателе Rating  и в функциональном показателе sample !!!"
   ]
  },
  {
   "cell_type": "code",
   "execution_count": null,
   "metadata": {},
   "outputs": [],
   "source": [
    "sns.pairplot(data, kind = 'reg')\n",
    "data.corr()"
   ]
  },
  {
   "cell_type": "markdown",
   "metadata": {},
   "source": [
    "Корреляционная матрица не содержит сильно коррелирующих признаков. Следовательно, все признаки сохраняются в датасете.\n",
    "Отдельно хочется отметить на обратную корреляцию целевого показателя ранга Ranking и рейтинга Rating. Т.е. чем выше рейтинг, тем ниже ранг. Видимо учётные данные в TripAdvisor отранжированны таким образом, что рейтинговые рестораны имеют низкий ранг, т.е. стоят первые по списку.\n",
    "#### <i>Примечание</i>: надо проверить"
   ]
  },
  {
   "cell_type": "markdown",
   "metadata": {},
   "source": [
    "## Очистка, преобразование данных и генерация новых признаков"
   ]
  },
  {
   "cell_type": "markdown",
   "metadata": {},
   "source": [
    "#### Признак - плотность населения population_density\n",
    "Данные взяты из источников:\n",
    "\n",
    "https://ru.qaz.wiki/wiki/List_of_European_Union_cities_proper_by_population_density\n",
    "\n",
    "https://wiki2.org/ru/Список_самых_населённых_городов_Европейского_союза\n",
    "\n",
    "Целесообразность ввода этого признака объясняется более высокой вероятностью посещения ресторанов при высокой плотности населения. Видимо следует ожидать влияния этого признака на целевой показатель.\n"
   ]
  },
  {
   "cell_type": "code",
   "execution_count": null,
   "metadata": {},
   "outputs": [],
   "source": [
    "# Население городов (информация из Интернет)\n",
    "population_density = {'London': 5082, 'Paris': 20909, 'Madrid': 5390, 'Barcelona': 15991, 'Berlin': 4090, 'Milan': 7519, 'Rome': 3389, 'Prague': 2473, 'Lisbon': 6446, 'Vienna': 4556, 'Amsterdam': 5135, 'Brussels': 7465, 'Hamburg': 2388, 'Munich': 4736, 'Lyon': 10460, 'Stockholm': 5012, 'Budapest': 3337, 'Warsaw': 3421, 'Dublin': 5695, 'Copenhagen': 6711, 'Athens': 19135, 'Edinburgh': 4140, 'Zurich': 4666, 'Oporto': 6900, 'Geneva': 12589, 'Krakow': 2313, 'Oslo': 1483, 'Helsinki': 3035, 'Bratislava': 1189, 'Luxembourg': 2240, 'Ljubljana': 1583}\n",
    "print(population_density)"
   ]
  },
  {
   "cell_type": "code",
   "execution_count": null,
   "metadata": {},
   "outputs": [],
   "source": [
    "# Формируем столбец population_density\n",
    "for y in range(0,len(data)):\n",
    "    data.at[y,'population_density'] = population_density[data['City'][y]]"
   ]
  },
  {
   "cell_type": "markdown",
   "metadata": {},
   "source": [
    "#### Признак - доля населения города приходящаяся на один ресторан population"
   ]
  },
  {
   "cell_type": "code",
   "execution_count": null,
   "metadata": {},
   "outputs": [],
   "source": [
    "# Население городов (информация из Интернет)\n",
    "population = {'London': 8416999, 'Paris': 2257981, 'Madrid': 3273049, 'Barcelona': 1619337, 'Berlin': 3479240, 'Milan': 1324110, 'Rome': 2761477, 'Prague': 1290211, 'Lisbon': 506654, 'Vienna': 1714142, 'Amsterdam': 779808, 'Brussels': 1125728, 'Hamburg': 1787220, 'Munich': 1353168, 'Lyon': 516092, 'Stockholm': 847073, 'Budapest': 1721556, 'Warsaw': 1716855, 'Dublin': 1173179, 'Copenhagen': 794128, 'Athens': 664046, 'Edinburgh': 513210, 'Zurich': 434008, 'Oporto': 237591, 'Geneva': 201818, 'Krakow': 755546, 'Oslo': 599230, 'Helsinki': 588549, 'Bratislava': 437725, 'Luxembourg': 626108, 'Ljubljana': 284355}\n",
    "print(population)"
   ]
  },
  {
   "cell_type": "code",
   "execution_count": null,
   "metadata": {},
   "outputs": [],
   "source": [
    "# Формируем новый признак - доля населения приходящаяся на один ресторан из датасета в каждом городе\n",
    "# city - словарь в котором хранятся данные города - ключ и количество ресторанов в этом городе - значение.\n",
    "for y in city:\n",
    "    city_pop[y]=round(population[y]/city[y])\n",
    "\n",
    "    \n",
    "sort_dic = OrderedDict(sorted(city_pop.items(), key = itemgetter(1), reverse = False)) # Сортируем по значению и\n",
    "# и формируем ранжированный список городов от меньшего к большему\n",
    "print(sort_dic)\n",
    "\n",
    "# Создаём новый столбец population\n",
    "for y in range(0,len(data)):\n",
    "    data.at[y,'population'] = city_pop[data['City'][y]]\n",
    "    \n",
    "# Пример. В Лондоне, на каждые 1462 лондонца приходится один ресторан из датасета. В Париже - на каждые 461 парижанина\n",
    "# приходится один ресторан. Самый \"обеспеченный\" ресторанами город - Лиссабон, а видимо в Люксембурге столик в ресторане\n",
    "# нужно заказывать заранее :)"
   ]
  },
  {
   "cell_type": "markdown",
   "metadata": {},
   "source": [
    "#### Признак - охвата\n",
    "\n",
    "Так как ресторан может принадлежать некой сети общепита, которая представлена в разных городах то уместно ввести интегрированный список долей по каждому городу относящемуся к конкретному ресторану для каждого Restaurant_id"
   ]
  },
  {
   "cell_type": "code",
   "execution_count": null,
   "metadata": {},
   "outputs": [],
   "source": [
    "reach = dict(data.groupby('Restaurant_id')['population'].median())\n",
    "for y in range(0,len(data)):\n",
    "    data.at[y,'reach'] = round(reach[data['Restaurant_id'][y]])"
   ]
  },
  {
   "cell_type": "markdown",
   "metadata": {},
   "source": [
    "#### Признак - индекс уровня жизни\n",
    "\n",
    "Данные взяты с сайта https://www.numbeo.com/ по каждому городу - индекс уровня жизни.\n",
    "При расчёте индекса уровня жизни использует девять факторов качества жизни для определения оценки страны/города. Показателей, которые учитывались при составлении рейтинга:<br>\n",
    "\n",
    "•\tЗдоровье: Ожидаемая продолжительности жизни (в годах). Источник: US Census Bureau.<br>\n",
    "•\tСемейная жизнь: Уровень разводов (на 1 тыс. чел.), ставится оценка от 1 (мало разводов) до 5 (много разводов). Источники: ООН; Euromonitor.<br>\n",
    "•\tОбщественная жизнь: Переменная принимает значение 1, если в стране высокий уровень посещаемости церкви или профсоюзного членства. Источник: World Values Survey.<br>\n",
    "•\tМатериальное благополучие: ВВП на душу населения, Паритет покупательной способности. Источник: Economist Intelligence Unit.<br>\n",
    "•\tПолитическая стабильность и безопасность: Рейтинги политической стабильности и безопасности. Источник: Economist Intelligence Unit.<br>\n",
    "•\tКлимат и география: Широта, для различения холодных и жарких климатов. Источник: CIA World Factbook.<br>\n",
    "•\tГарантия работы: Уровень безработицы (в процентах). Источник: Economist Intelligence Unit.<br>\n",
    "•\tПолитическая свобода: Средний индекс политической и гражданской свободы. Шкала от 1 (полностью свободная) до 7 (несвободная). Источник: Freedom House.<br>\n",
    "•\tГендерное равенство: измеряется путём деления средней зарплаты мужчин на зарплату женщин. Источник: UNDP Human Development Report.<br>\n",
    "Данный показатель как признак необходимо включить в модель в силу того, что он характеризует уровень спроса на ресторанные услуги.\n"
   ]
  },
  {
   "cell_type": "code",
   "execution_count": null,
   "metadata": {},
   "outputs": [],
   "source": [
    "# Индекс уровня жизни по городам (информация из Интернет)\n",
    "living_index = {'London': 116.23, 'Paris': 136.37, 'Madrid': 64.68, 'Barcelona': 67.54, 'Berlin': 80.74, 'Milan': 111.36, 'Rome': 100.05, 'Prague': 31.53, 'Lisbon': 38.36, 'Vienna': 81.52, 'Amsterdam': 120.07, 'Brussels': 97.72, 'Hamburg': 86.39, 'Munich': 106.45, 'Lyon': 107.53, 'Stockholm': 118.49, 'Budapest':  17.09, 'Warsaw': 17.83, 'Dublin': 121.47, 'Copenhagen': 144.70, 'Athens': 58.58, 'Edinburgh': 89.91, 'Zurich': 244.96, 'Oporto': 36.68, 'Geneva': 233.66, 'Krakow': 9.94, 'Oslo': 68.34, 'Helsinki': 103.54, 'Bratislava': 34.47, 'Luxembourg': 127.85, 'Ljubljana': 55.48}\n",
    "# Создаём новый столбец living_index\n",
    "for y in range(0,len(data)):\n",
    "    data.at[y,'living_index'] = living_index[data['City'][y]]\n",
    "    \n",
    "data['living_index'] = pd.to_numeric(data['living_index']) # Защита. Преобразуем значения столбца в число"
   ]
  },
  {
   "cell_type": "markdown",
   "metadata": {},
   "source": [
    "#### Признак - стоимость на еду food_prices\n",
    "Данные взяты с сайта https://www.numbeo.com/ по каждому городу. Признак представлен в ценнах USD, как минимальная сумма необходимая на одного человека для получения 2400 колорий в 31 день каждого месяца."
   ]
  },
  {
   "cell_type": "code",
   "execution_count": null,
   "metadata": {},
   "outputs": [],
   "source": [
    "food_prices = {'London':271.12, 'Paris':456.98, 'Madrid':263.60, 'Barcelona':269.14, 'Berlin':289.81, 'Milan':370.25, 'Rome':347.61, 'Prague':219.09, 'Lisbon':206.17, 'Vienna':315.33, 'Amsterdam':319.22, 'Brussels':330.92, 'Hamburg':282.96, 'Munich':331.71, 'Lyon':375.47, 'Stockholm':372.68, 'Budapest':184.50, 'Warsaw':181.17, 'Dublin':305.68, 'Copenhagen':373.24, 'Athens':235.71, 'Edinburgh':247.17, 'Zurich':731.17, 'Oporto':215.64, 'Geneva':704.94, 'Krakow':167.61, 'Oslo':448.58, 'Helsinki':321.60, 'Bratislava':224.90, 'Luxembourg':420.21, 'Ljubljana':262.88}\n",
    "# Создаём новый столбец food_prices\n",
    "for y in range(0,len(data)):\n",
    "    data.at[y,'food_prices'] = food_prices[data['City'][y]]\n",
    "    \n",
    "data['food_prices'] = pd.to_numeric(data['food_prices']) # Защита. Преобразуем значения столбца в число"
   ]
  },
  {
   "cell_type": "markdown",
   "metadata": {},
   "source": [
    "#### Признак - индекс преступности crime_index\n",
    "Так как посещение ресторанов происходит в основном в вечернее время, а в это время \"преступные элементы\" активизируются, то вполне ожидаемо, что чем выше преступность в регионе, тем люди больше сидят дома и не ходят в рестораны. Считаю наличие этого признака вполне уместно.\n",
    "Данные взяты с сайта https://www.numbeo.com/ по каждому городу. \n",
    "Индекс преступности —  в криминологии статистический показатель масштабов преступности в обществе, отражающий отношение количества совершенных и зарегистрированных преступлений к определенному количеству лиц."
   ]
  },
  {
   "cell_type": "code",
   "execution_count": null,
   "metadata": {},
   "outputs": [],
   "source": [
    "crime_index = {'London':52.65, 'Paris':52.50, 'Madrid':29.46, 'Barcelona':45.44, 'Berlin':40.79, 'Milan':43.27, 'Rome':51.69, 'Prague':24.05, 'Lisbon':28.18, 'Vienna':24.96, 'Amsterdam':33.02, 'Brussels':50.91, 'Hamburg':43.38, 'Munich':17.67, 'Lyon':44.72, 'Stockholm':45.17, 'Budapest':36.06, 'Warsaw':25.50, 'Dublin':49.67, 'Copenhagen':25.53, 'Athens':51.52, 'Edinburgh':30.96, 'Zurich':16.41, 'Oporto':36.28, 'Geneva':27.41, 'Krakow':25.68, 'Oslo':35.61, 'Helsinki':23.82, 'Bratislava':30.71, 'Luxembourg':27.79, 'Ljubljana':21.38}\n",
    "# Создаём новый столбец crime_index\n",
    "for y in range(0,len(data)):\n",
    "    data.at[y,'crime_index'] = crime_index[data['City'][y]]\n",
    "    \n",
    "data['crime_index'] = pd.to_numeric(data['crime_index']) # Защита. Преобразуем значения столбца в число"
   ]
  },
  {
   "cell_type": "markdown",
   "metadata": {},
   "source": [
    "#### Признак - индекс времени time_index\n",
    "\n",
    "Посещение ресторана (финальная его стадия) связана с убытием домой и скорей всего на транспорте. Вполне логично включить в признак - индекс времени как среднее время, необходимое для перевозки в одну сторону, в минутах. Потенциальные клиенты ресторанов охотнее будут посещать рестораны, как ближайшие, так и удалённые, если индекс времени их устраивает, т.е. относительно мал.\n",
    "Данные взяты с сайта https://www.numbeo.com/ по каждому городу. "
   ]
  },
  {
   "cell_type": "code",
   "execution_count": null,
   "metadata": {},
   "outputs": [],
   "source": [
    "time_index = {'London':43.81, 'Paris':41.28, 'Madrid':35.05, 'Barcelona':29.94, 'Berlin':33.66, 'Milan':36.74, 'Rome':42.07, 'Prague':32.43, 'Lisbon':35.79, 'Vienna':26.71, 'Amsterdam':29.62, 'Brussels':37.17, 'Hamburg':34.39, 'Munich':33.06, 'Lyon':33.78, 'Stockholm':36.09, 'Budapest':39.10, 'Warsaw':35.08, 'Dublin':40.25, 'Copenhagen':28.77, 'Athens':38.17, 'Edinburgh':28.85, 'Zurich':33.53, 'Oporto':28.59, 'Geneva':25.49, 'Krakow':30.71, 'Oslo':31.92, 'Helsinki':30.97, 'Bratislava':30.89, 'Luxembourg':33.24, 'Ljubljana':27.72}\n",
    "# Создаём новый столбец time_index\n",
    "for y in range(0,len(data)):\n",
    "    data.at[y,'time_index'] = time_index[data['City'][y]]\n",
    "    \n",
    "data['time_index'] = pd.to_numeric(data['time_index']) # Защита. Преобразуем значения столбца в число"
   ]
  },
  {
   "cell_type": "markdown",
   "metadata": {},
   "source": [
    "##### Признак - туристической мощности города tourist_people.\n",
    "\n",
    "Очевидно, что в городах, где развит туризм, а таковые в датасете все, наполняемость ресторанов обеспечивает не только местное население но въездной туризм. Введём признак tourist_people.\n",
    "Источник данных: \n",
    " - https://zen.yandex.ru/media/podborka/50-samyh-posescaemyh-gorodov-mira-5cebbe6a99144700b4c12577\n",
    " - https://www.newsli.ru/news/world/turizm/34353\n",
    " \n",
    " Смысловое понимание этого признака следующее. Признак получается путём умножения населения города на количество туристов, посетивших этот город в течение года, и на коэффициент link. Если представить матрицу размером n x m, где n - количество жителей города, а m - количество туристов, то количество ячеек этой матрицы будет вычисляемое произведение, т.е. количество контактов каждого туриста с каждым жителем. Коэффициентом link можно регулировать количеством контактов принимая его значение от 0 до 1. В данном расчёте принимаем максимально возможную ситуацию, когда каждый горожанин встретился с каждым туристом и порекомендовал посетить тот или иной ресторан.:)\n",
    " <i>Примечание:</i> Многие данные приходилось собирать из разных источников и видимо временные границы размыты (т.е. разные годы). Обратил внимание, что сводной статистики, детализированной, в открытом доступе по направлению туризм, мало.\n"
   ]
  },
  {
   "cell_type": "code",
   "execution_count": null,
   "metadata": {},
   "outputs": [],
   "source": [
    "#  Словарь содержащий информацию о количестве туристов посетивших конкретный город из датасете за год\n",
    "tourist_people = {'London': 19827.8, 'Paris': 15834.2, 'Madrid': 5275.2, 'Barcelona': 6530.1, 'Berlin': 5627.4, 'Milan': 6347.9, 'Rome': 9531.6, 'Prague': 8806.7, 'Lisbon': 3639, 'Vienna': 6067.1, 'Amsterdam': 7848, 'Brussels': 4276, 'Hamburg': 8000, 'Munich': 4205, 'Lyon': 1500, 'Stockholm': 2721, 'Budapest': 4025, 'Warsaw': 2827, 'Dublin': 4986.5, 'Copenhagen': 3185, 'Athens': 4797.4, 'Edinburgh': 2320, 'Zurich': 1000, 'Oporto': 2491, 'Geneva': 3323, 'Krakow': 2910, 'Oslo': 4800, 'Helsinki': 3400, 'Bratislava': 1400, 'Luxembourg': 1018, 'Ljubljana': 1548}\n",
    "\n",
    "# Создаём новый столбец tourist_people и заполним его промежуточным значениями количеством туристов кпо каждому городу\n",
    "link = 1\n",
    "for y in range(0,len(data)):\n",
    "    data.at[y,'tourist_people'] = tourist_people[data['City'][y]]*population[data['City'][y]]*link\n",
    "    \n",
    "data['tourist_people'] = pd.to_numeric(data['tourist_people']) # Защита. Преобразуем значения столбца в число"
   ]
  },
  {
   "cell_type": "markdown",
   "metadata": {},
   "source": [
    "## №1\n",
    "В загруженном датасете проведём корректировку наименований столбцов"
   ]
  },
  {
   "cell_type": "code",
   "execution_count": null,
   "metadata": {
    "scrolled": true
   },
   "outputs": [],
   "source": [
    "# Нормализуем наименование столбцов согасно стандарта написания кода и заменим старые наименования на новые\n",
    "data.columns = [x.replace('\\n','_').replace(' ','_').replace('__','_').replace('-','_').replace('(','').replace(')','').lower() for x in list(data)]\n",
    "data.columns"
   ]
  },
  {
   "cell_type": "markdown",
   "metadata": {},
   "source": [
    "#### Наименования столбцов:\n",
    "\n",
    "<b>restaurant_id</b> - ID ресторана<br>\n",
    "<b>city</b> - город локации ресторана<br>\n",
    "<b>cuisine_style</b> - стиль кухни<br>\n",
    "<b>ranking</b> - ранжирование<br>\n",
    "<b>rating</b> - рейтинг<br>\n",
    "<b>population_density</b> - плотность населения города<br>\n",
    "<b>price_range</b> - ценовой диапазон<br>\n",
    "<b>number_of_reviews</b> - количество отзывов<br>\n",
    "<b>reviews</b> - обзоры<br>\n",
    "<b>url_ta</b> - url адрес ресторана в сети Интернет<br>\n",
    "<b>id_ta</b> - идентификатор ресторана в базе данных TripAdvisor<br>\n",
    "<b>population</b> - доля населения приходящаяся на один ресторан в каждом конретном городе<br>\n",
    "<b>reach</b> - охват сетью ресторанов городов<br>\n",
    "<b>living_index</b> - индекс уровня жизни в городах<br>\n",
    "<b>food_prices</b> - сумма необходимая на одного человека для получения 2400 колорий в 31 день каждого месяца<br>\n",
    "<b>crime_index</b> - индекс преступности в городах<br>\n",
    "<b>time_index</b> - индекс времени, как среднее время, необходимое для перевозки в одну сторону, в минутах<br>\n",
    "<b>tourist_people</b> - показатель туристической мощности города"
   ]
  },
  {
   "cell_type": "markdown",
   "metadata": {},
   "source": [
    "## №2\n",
    "В связи с тем, что стили кухонь в каждом ресторане предлагаются разные, и часто комплексно, проведём разнесение стилей кухонь по каждому ресторану в виде отдельных столбцов."
   ]
  },
  {
   "cell_type": "code",
   "execution_count": null,
   "metadata": {},
   "outputs": [],
   "source": [
    "pattern = re.compile('[^a-zA-Z&, ]+')\n",
    "# Перевод значений столбца cuisine_style в строку и замена старого значения ячейки на список типов кухонь.\n",
    "for x in range(0, len(data)):\n",
    "    z = ''.join(data['cuisine_style'][x])\n",
    "    z = re.sub(pattern,'',data['cuisine_style'][x])\n",
    "    z = z.split(',')\n",
    "    data.at[x,'cuisine_style'] = sorted([j.strip().replace('  ',' ').replace(' ','_') for j in z])"
   ]
  },
  {
   "cell_type": "markdown",
   "metadata": {},
   "source": [
    "#### Признак - type_cuisine количество типов кухонь представляемых рестораном клиентам."
   ]
  },
  {
   "cell_type": "code",
   "execution_count": null,
   "metadata": {},
   "outputs": [],
   "source": [
    "# Определяем по каждому ресторану стили кухонь, добавляем к датасету новые столбцы, названия которых соотвествуют тому\n",
    "# или иному стилю кухни и заполняем ячейки этих столбцов 1, в зависимости от наличия в ресторане стиля кухни\n",
    "cuisine = [] # Список наименований столбцов для разных типов кухонь датасета\n",
    "data['types_cuisine'] = 0 # Создаём столбец type_cuisine, с начальным значением равным 0\n",
    "for x in range(0, len(data)):\n",
    "    z = data['cuisine_style'][x]\n",
    "    data['types_cuisine'][x] = len(z)\n",
    "    for y in z:\n",
    "        data.at[x,y] = 1\n",
    "        if cuisine.count(y) == 0:\n",
    "            cuisine.append(y)\n",
    "            \n",
    "for y in cuisine: # Заполняем пустые ячейки столбцов типов кухонь 0\n",
    "    data[y] = data[y].fillna(0)\n",
    "            \n",
    "data = data.drop(['cuisine_style'], axis = 1) # Удаляем столбец cuisine_style"
   ]
  },
  {
   "cell_type": "code",
   "execution_count": null,
   "metadata": {},
   "outputs": [],
   "source": [
    "dic_cuisine = {y:0 for y in cuisine} # Создаём словарь типов кухонь, в значения которых будут записаны количество раз \n",
    "# встречающиеся в датасете\n",
    "for y in cuisine:\n",
    "    dic_cuisine[y] = data[y].sum()\n",
    "sort_dic = list(OrderedDict(sorted(dic_cuisine.items(), key = itemgetter(1), reverse = False))) # Сортируем по значению и\n",
    "# и формируем ранжированный список типов кухонь от меньшего к большему\n",
    "print(sort_dic)"
   ]
  },
  {
   "cell_type": "markdown",
   "metadata": {},
   "source": [
    "#### Признак - top_cuisine сумарное значение ранжировок из  sort_dic представленных кухонь, в каждом конкретно взятом ресторане."
   ]
  },
  {
   "cell_type": "code",
   "execution_count": null,
   "metadata": {},
   "outputs": [],
   "source": [
    "data['top_cuisine'] = 0\n",
    "data['top_cuisine'] = pd.to_numeric(data['top_cuisine']) # Защита. Преобразуем значения столбца в число\n",
    "\n",
    "for y in range(0,len(data)):\n",
    "    summa =0\n",
    "    for x in cuisine:\n",
    "        if  data[x][y] == 1:\n",
    "            summa+=sort_dic.index(x)+1\n",
    "    data.at[y,'top_cuisine'] = summa"
   ]
  },
  {
   "cell_type": "markdown",
   "metadata": {},
   "source": [
    "## №3\n",
    "Заполнение пустых ячеек столбца number_of_reviews. Пустые ячейки будем заполнять средним количеством отзывов по совокупной выборки конкретного ресторана."
   ]
  },
  {
   "cell_type": "code",
   "execution_count": null,
   "metadata": {},
   "outputs": [],
   "source": [
    "\n",
    "# Заполним сначала пустые ячейки столбца   reviews значением data['reviews'][0] = [[],[]]\n",
    "data['reviews'] = data['reviews'].fillna(data['reviews'][0])\n",
    "\n",
    "# Перевод значений столбца reviews в строку\n",
    "for x in range(0, len(data)):\n",
    "    data.at[x,'reviews'] = ''.join(data['reviews'][x])\n",
    "\n",
    "# Так как встречаются варианты, когда количество отзывов нет, а в соседнем столбце reviews отзыв есть, скорректируем\n",
    "# данные столбца number_of_reviews с 0 на 1\n",
    "# \n",
    "for i in range(0,len(data)):\n",
    "    if (data['number_of_reviews'][i] == 0) and (data['reviews'][i].count(\"'\") !=0):\n",
    "        data.at[i,'number_of_reviews'] = 1\n",
    "        \n",
    "# Группируем рестораны по id и вычислем среднее количество отзывов по каждой подгруппе        \n",
    "g_df = pd.Series(data.groupby('restaurant_id')['number_of_reviews'].median())\n",
    "\n",
    "# Корректируем данные столбца number_of_reviews изменяя значение 0 на среднее значение отзывов, если оно не равно 0.\n",
    "for i in range(0,len(data)):\n",
    "    if data['number_of_reviews'][i] ==0:\n",
    "        x =  data['restaurant_id'][i]\n",
    "        data.at[i,'number_of_reviews'] = round(g_df[x])"
   ]
  },
  {
   "cell_type": "markdown",
   "metadata": {},
   "source": [
    "## №4\n",
    "В столбце <b>reviews</b> содержится информация обзор отзывов посетителей.\n",
    "Разнесён отзывы по столбцам.\n",
    "Сформируем столбцы дат в которые формировались отзывы"
   ]
  },
  {
   "cell_type": "code",
   "execution_count": null,
   "metadata": {
    "scrolled": false
   },
   "outputs": [],
   "source": [
    "# Распарсим столбец на две составляющие, текст отзыва и даты, когда отзывы были сделаны. Текст оставим в столбце reviews, а для дат\n",
    "# создадим столбцы date(и номер)\n",
    "pattern = \"[^a-z0-9/, ]+\"\n",
    "review = []# Список наименований столбцов, в которых будут занесены отзывы\n",
    "dates = [] # Список наименований столбцов, в которых будут занесены даты отзывов\n",
    "dat = []\n",
    "txt = []\n",
    "for x in range(0, len(data)):\n",
    "    z = data['reviews'][x]\n",
    "    z = re.sub('#',' ',z).lower().replace(\"\\\\', \",',').replace(\"'], ['\",'#')\\\n",
    "                                 .replace(\"', '\",'#').replace(\"'\",'').replace(\".\",'')\\\n",
    "                                 .replace(\"-\",' ').replace(\"[\",'').replace(\"]\",'')\n",
    "    z = z.split('#')\n",
    "    z = [y.strip() for y in z if y !=''] # Убираем пустые элементы из списка и удаляем крайние пробелы в элементах списка\n",
    "    if len(z) == 2 and z[0] !=''and z[1] !='':\n",
    "        txt.append(re.sub('[0-9/]+','',z[0]))\n",
    "        dat.append(parser.parse(z[1]))\n",
    "    elif len(z) == 4 and z[0] !='' and z[1] !=''and z[2] !='' and z[3] !='':\n",
    "        txt.append(re.sub('[0-9/]+','',z[0]))\n",
    "        txt.append(re.sub('[0-9/]+','',z[1]))\n",
    "        dat.append(parser.parse(re.sub('[^0-9/]+','',z[2])))\n",
    "        dat.append(parser.parse(re.sub('[^0-9/]+','',z[3])))\n",
    "    da = [j for j in dat if j !='']    \n",
    "    dl = len(da)\n",
    "    if dl > 0:\n",
    "        for d in range(0,dl):\n",
    "            namd = 'date'+ str(d+1)\n",
    "            data.at[x,namd] = da[d]\n",
    "            if dates.count(namd) ==0:\n",
    "                dates.append(namd)\n",
    "    tx = [j for j in txt if j !='']\n",
    "    dl = len(tx)\n",
    "    if dl !=0:\n",
    "        for d in range(0,dl):\n",
    "            namt = 'review'+ str(d+1)\n",
    "            data.at[x,namt] = tx[d]\n",
    "            if review.count(namt) ==0:\n",
    "                review.append(namt)\n",
    "    dat.clear()\n",
    "    txt.clear()\n",
    "\n",
    "# Заполняем пустые ячейки столбцов отзывов нейтральным отзывом\n",
    "for y in review:\n",
    "    data[y] = data[y].fillna('neutral')\n",
    "\n",
    "# Заполняем пустые ячейки столбцов дат 0\n",
    "for y in dates:\n",
    "    data[y] = data[y].fillna(0)\n",
    "    \n",
    "# Удаляем столбец reviews\n",
    "data = data.drop(['reviews'], axis = 1)"
   ]
  },
  {
   "cell_type": "markdown",
   "metadata": {},
   "source": [
    "# №5\n",
    "Сформируем столбец разности дат.\n",
    "Преобразуем даты озывов в дни от минимальной даты."
   ]
  },
  {
   "cell_type": "code",
   "execution_count": null,
   "metadata": {},
   "outputs": [],
   "source": [
    "# Формируем столбец разности дат отзывов в днях\n",
    "data['days'] = 0\n",
    "for y in range(0,len(data)):\n",
    "    day1 = data['date1'][y]\n",
    "    day2 = data['date2'][y]\n",
    "    if day1 !=0 and day2 !=0:\n",
    "        data.at[y,'days'] = abs((day1-day2).days)   \n",
    "        \n",
    "data['days'] = pd.to_numeric(data['days']) # Защита. Преобразуем значения столбца в число"
   ]
  },
  {
   "cell_type": "code",
   "execution_count": null,
   "metadata": {},
   "outputs": [],
   "source": [
    "# Определяем минимальную дату отзыва.\n",
    "data['date1'] = data['date1'].fillna(0)\n",
    "data['date2'] = data['date2'].fillna(0)\n",
    "data_min1 = min([y for y in data['date1'] if y !=0])\n",
    "data_min2 = min([y for y in data['date2'] if y !=0])\n",
    "if data_min2>data_min1:\n",
    "    data_min = data_min1\n",
    "else:\n",
    "    data_min = data_min2\n",
    "    \n",
    "# Переводим столбцы дат отзывов в количество дней от минимальной даты\n",
    "print(data_min)\n",
    "for y in range(0,len(data)):\n",
    "    if data['date1'][y] != 0:\n",
    "        data.at[y,'date1'] = round((data['date1'][y] - data_min).days +1)\n",
    "    else:\n",
    "        data.at[y,'date1'] = 0        \n",
    "for y in range(0,len(data)):\n",
    "    if data['date2'][y] != 0:\n",
    "        data.at[y,'date2'] = round((data['date2'][y] - data_min).days +1)\n",
    "    else:\n",
    "        data.at[y,'date2'] = 0\n",
    "        \n",
    "data['date1'] = pd.to_numeric(data['date1']) # Защита. Преобразуем значения столбца в число\n",
    "data['date2'] = pd.to_numeric(data['date2']) # Защита. Преобразуем значения столбца в число\n",
    "\n",
    "        \n",
    "# Так как в ячейках находились значения 0 то, чтобы востановить исходные даты\n",
    "#  необходимо восстанавливать с ячейки со значением 1\n",
    "\n",
    "# Минимальная дата датасета 2004-04-21 00:00:00 указывается в сопроводительной справке, для востановления дат."
   ]
  },
  {
   "cell_type": "markdown",
   "metadata": {},
   "source": [
    "## №6\n",
    "Преобразуем колонку price_range из разрядного представления цены в ячейках в столбцы\n",
    "( 10, 100, 1000, 10000 максимальное значение ценового диапазона). Разнесём ценовые диапазоны по столбцам"
   ]
  },
  {
   "cell_type": "code",
   "execution_count": null,
   "metadata": {},
   "outputs": [],
   "source": [
    "# Приведём значения ячеек к виду $, $$, $$$, $$$$\n",
    "data['price'] = 0\n",
    "for y in range(0,len(data)):\n",
    "    if data['price_range'][y].count('$') == 5:\n",
    "        data.at[y,'price'] = 3\n",
    "    if data['price_range'][y].count('$') == 1:\n",
    "        data.at[y,'price'] = 1\n",
    "    if data['price_range'][y].count('$') == 4:\n",
    "        data.at[y,'price'] = 4\n",
    "    if data['price_range'][y].count('$') == 2:\n",
    "        data.at[y,'price'] = 2"
   ]
  },
  {
   "cell_type": "markdown",
   "metadata": {},
   "source": [
    "1. Группируем ресторанные цены по ресторанам и определяем среднее значение цены по каждой группе ресторанов.\n",
    "2. Группируем ресторанные цены по городам и о пределяем среднее значение цены по городу"
   ]
  },
  {
   "cell_type": "code",
   "execution_count": null,
   "metadata": {},
   "outputs": [],
   "source": [
    "price_rest = dict(data.groupby('restaurant_id')['price'].mean())\n",
    "price_city = dict(data.groupby('city')['price'].mean())"
   ]
  },
  {
   "cell_type": "markdown",
   "metadata": {},
   "source": [
    "#### Признак - доступности choice\n",
    "\n",
    "Смысл признака choice в следующем. Так как в датасете представлены не просто 50000 ресторанов, а 11 с лишним  тысяч ресторанных сетей, то европейцы перемещаясь по Европе или туристы будут иметь опыт посещения той или иной ресторанной сети, и знакомы с её ценовым диапазоном, с которым они сталкивались ранее. При выборе ресторана куда пойти, потенциальный посетитель будет знакомиться с условиями обслуживания, в том числе и ценовой составляющей. Если по их опыту цена будет выше чем они привыкли, то вероятная мотивация отказаться от его посещения будет высокой и посетители будут ориентироваться на среднюю ценовую политику по всему городу. Если же цена будет ниже средней цены этой ресторанной сети, и если эта ресторанная сеть ранее устраивала посетителя, вероятность посещения будет высокой и признак choice по строке данного ресторана останется равным ресторанному. "
   ]
  },
  {
   "cell_type": "code",
   "execution_count": null,
   "metadata": {},
   "outputs": [],
   "source": [
    "for y in range(0,len(data)):\n",
    "    if  data['price'][y] > price_rest[data['restaurant_id'][y]]:\n",
    "        data.at[y,'choice'] = price_city[data['city'][y]]\n",
    "    else:\n",
    "        data.at[y,'choice'] = data['price'][y]"
   ]
  },
  {
   "cell_type": "code",
   "execution_count": null,
   "metadata": {},
   "outputs": [],
   "source": [
    "data = pd.get_dummies(data, columns=[ 'price',], dummy_na=True) # Разносим столбец price_range\n",
    "# Удаляем столбцы из списка price_range\n",
    "data = data.drop(['price_range'], axis = 1)\n",
    "data = data.drop(['price_nan'], axis = 1) # Удаляем столбцы price_range_nan"
   ]
  },
  {
   "cell_type": "markdown",
   "metadata": {},
   "source": [
    "## №7\n",
    "\n",
    "Разнесём наименование городов столбец - city, по столбцам."
   ]
  },
  {
   "cell_type": "code",
   "execution_count": null,
   "metadata": {},
   "outputs": [],
   "source": [
    "data = pd.get_dummies(data, columns=[ 'city',], dummy_na=True)\n",
    "data = data.drop(['city_nan'], axis = 1)"
   ]
  },
  {
   "cell_type": "markdown",
   "metadata": {},
   "source": [
    "## Окончательная обработка датасет\n",
    "Определяем наименования столбцов подлежащих удалению.\n",
    "Копируем обработанный датасет в новый датасет df_preproc и удаляем из нового датасета все столбцы значения которых не имеют числовой тип."
   ]
  },
  {
   "cell_type": "code",
   "execution_count": null,
   "metadata": {},
   "outputs": [],
   "source": [
    "# Формируем список наименований столбцов подлежащих удалению\n",
    "list_col =[]\n",
    "for x in data.columns:\n",
    "    if data[x].dtype != 'float64' and data[x].dtype != 'int64' and data[x].dtype != 'uint8':\n",
    "        list_col.append(x)\n",
    "list_col"
   ]
  },
  {
   "cell_type": "code",
   "execution_count": null,
   "metadata": {},
   "outputs": [],
   "source": [
    "df_preproc = data.copy()\n",
    "df_preproc = df_preproc.drop(list_col, axis = 1)\n",
    "df_preproc.info()"
   ]
  },
  {
   "cell_type": "markdown",
   "metadata": {},
   "source": [
    "### Проведём стандартизацию и заполним нулями пропуски по всем переменным"
   ]
  },
  {
   "cell_type": "code",
   "execution_count": null,
   "metadata": {},
   "outputs": [],
   "source": [
    "\n",
    "scaler = StandardScaler()\n",
    "for i  in list(df_preproc.columns):\n",
    "    if i not in ['rating','sample']:\n",
    "        scaler.fit(df_preproc[[i]])\n",
    "        df_preproc[i] = scaler.transform(df_preproc[[i]])\n",
    "        if len(df_preproc[df_preproc[i].isna()]) < len(df_preproc):\n",
    "            df_preproc[i] = df_preproc[i].fillna(0)\n",
    "\n",
    "display(df_preproc.describe().head(8))"
   ]
  },
  {
   "cell_type": "code",
   "execution_count": null,
   "metadata": {},
   "outputs": [],
   "source": [
    "df_corr = df_preproc.corr()\n",
    "display(df_corr)"
   ]
  },
  {
   "cell_type": "code",
   "execution_count": null,
   "metadata": {},
   "outputs": [],
   "source": [
    "# Выводим признаки, уровень корреляции между которыми выше 0.8\n",
    "for x in df_corr.columns:\n",
    "    for y in range(0,len(df_corr)):\n",
    "        z = df_corr[x][y]\n",
    "        if df_corr[x][y] > 0.8 and x != df_corr.columns[y]:            \n",
    "            print(z,x,df_corr.columns[y])"
   ]
  },
  {
   "cell_type": "code",
   "execution_count": null,
   "metadata": {},
   "outputs": [],
   "source": [
    "# Формируем список столбцов подлежащих удалению в связи с корреляционной зависимостью.\n",
    "list_del = ['food_prices','city_London','types_cuisine']\n",
    "#  -Удаляем food_prices, так как он входит в более расширенный признак living_index\n",
    "#  -Удаляем city_London, так как часть признака tourist_people\n",
    "#  -Удаляем types_cuisine, так как часть признака top_cuisine\n",
    "\n",
    "# Удаляем столбцы из списка list_del\n",
    "df_preproc = df_preproc.drop(list_del, axis = 1)"
   ]
  },
  {
   "cell_type": "markdown",
   "metadata": {},
   "source": [
    "# Разбиваем датафрейм на части, необходимые для обучения и тестирования модели"
   ]
  },
  {
   "cell_type": "code",
   "execution_count": null,
   "metadata": {},
   "outputs": [],
   "source": [
    "# Выделим тестовую часть\n",
    "train_data = df_preproc.query('sample == 1').drop(['sample'], axis=1)\n",
    "test_data = df_preproc.query('sample == 0').drop(['sample'], axis=1)\n",
    "\n",
    "y = train_data.rating.values # наш таргет\n",
    "X = train_data.drop(['rating'], axis=1)"
   ]
  },
  {
   "cell_type": "code",
   "execution_count": null,
   "metadata": {},
   "outputs": [],
   "source": [
    "# Воспользуемся специальной функцие train_test_split для разбивки тестовых данных\n",
    "# выделим 20% данных на валидацию (параметр test_size)\n",
    "X_train, X_test, y_train, y_test = train_test_split(X, y, test_size=0.2, random_state=RANDOM_SEED)"
   ]
  },
  {
   "cell_type": "code",
   "execution_count": null,
   "metadata": {},
   "outputs": [],
   "source": [
    "# Создаём модель (НАСТРОЙКИ НЕ ТРОГАЕМ)\n",
    "model = RandomForestRegressor(n_estimators=100, verbose=1, n_jobs=-1, random_state=RANDOM_SEED)"
   ]
  },
  {
   "cell_type": "code",
   "execution_count": null,
   "metadata": {},
   "outputs": [],
   "source": [
    "# Обучаем модель на тестовом наборе данных\n",
    "model.fit(X_train, y_train)\n",
    "\n",
    "# Используем обученную модель для предсказания рейтинга ресторанов в тестовой выборке.\n",
    "# Предсказанные значения записываем в переменную y_pred\n",
    "y_pred = model.predict(X_test)\n",
    "\n",
    "# Создаём модель (НАСТРОЙКИ НЕ ТРОГАЕМ)\n",
    "y_pred_rounded = np.round(y_pred*2)/2"
   ]
  },
  {
   "cell_type": "code",
   "execution_count": null,
   "metadata": {},
   "outputs": [],
   "source": [
    "# Сравниваем предсказанные значения (y_pred) с реальными (y_test), и смотрим насколько они в среднем отличаются\n",
    "# Метрика называется Mean Absolute Error (MAE) и показывает среднее отклонение предсказанных значений от фактических.\n",
    "print('MAE:', metrics.mean_absolute_error(y_test, y_pred))\n",
    "\n",
    "print('MAE с округлением результата:', metrics.mean_absolute_error(y_test, y_pred_rounded))"
   ]
  },
  {
   "cell_type": "code",
   "execution_count": null,
   "metadata": {},
   "outputs": [],
   "source": [
    "# в RandomForestRegressor есть возможность вывести самые важные признаки для модели\n",
    "plt.rcParams['figure.figsize'] = (10,10)\n",
    "feat_importances = pd.Series(model.feature_importances_, index=X.columns)\n",
    "feat_importances.nlargest(15).plot(kind='barh')"
   ]
  },
  {
   "cell_type": "markdown",
   "metadata": {},
   "source": [
    "### Вывод\n",
    "\n",
    "Видим, что все введённые новые признаки вошли в список важных и оказывают влияние на рейтинг ресторана.\n",
    "Учитывая, что из признаков исходного  датасета важным является лишь признак ранга - ranking, а все остальные сформированы отдельно, и относятся к социологическим, можно сделать выводы, что чем благоприятней общегородская социальная обстановка в городе и развита инфраструктура въездного туризма, тем выше посещаемость ресторана (независимо от типов кухонь их количества в одном ресторане, ....тип кухни так сказать на любителя).\n"
   ]
  },
  {
   "cell_type": "markdown",
   "metadata": {},
   "source": [
    "#### Submission\n",
    "готовим Submission на Kaggle.com"
   ]
  },
  {
   "cell_type": "code",
   "execution_count": null,
   "metadata": {},
   "outputs": [],
   "source": [
    "test_data.sample(10)"
   ]
  },
  {
   "cell_type": "code",
   "execution_count": null,
   "metadata": {},
   "outputs": [],
   "source": [
    "test_data = test_data.drop(['rating'], axis=1)"
   ]
  },
  {
   "cell_type": "code",
   "execution_count": null,
   "metadata": {},
   "outputs": [],
   "source": [
    "sample_submission"
   ]
  },
  {
   "cell_type": "code",
   "execution_count": null,
   "metadata": {},
   "outputs": [],
   "source": [
    "predict_submission = model.predict(test_data)"
   ]
  },
  {
   "cell_type": "code",
   "execution_count": null,
   "metadata": {},
   "outputs": [],
   "source": [
    "predict_submission"
   ]
  },
  {
   "cell_type": "code",
   "execution_count": null,
   "metadata": {},
   "outputs": [],
   "source": [
    "sample_submission['Rating'] = predict_submission\n",
    "sample_submission.to_csv('submission.csv', index=False)\n",
    "sample_submission.head()"
   ]
  },
  {
   "cell_type": "code",
   "execution_count": null,
   "metadata": {},
   "outputs": [],
   "source": []
  }
 ],
 "metadata": {
  "kernelspec": {
   "display_name": "Python 3",
   "language": "python",
   "name": "python3"
  },
  "language_info": {
   "codemirror_mode": {
    "name": "ipython",
    "version": 3
   },
   "file_extension": ".py",
   "mimetype": "text/x-python",
   "name": "python",
   "nbconvert_exporter": "python",
   "pygments_lexer": "ipython3",
   "version": "3.8.3"
  }
 },
 "nbformat": 4,
 "nbformat_minor": 2
}

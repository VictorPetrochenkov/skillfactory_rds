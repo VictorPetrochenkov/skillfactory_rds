{
 "cells": [
  {
   "cell_type": "markdown",
   "metadata": {},
   "source": [
    "#### <i>Блок проекта для размещения только на Kaggle.com</i>"
   ]
  },
  {
   "cell_type": "markdown",
   "metadata": {},
   "source": [
    "### Кредитный скоринг\n",
    "Автор: Petrochenkov Victor\n",
    "e-mail: 4941737@mail.ru\n",
    "\n",
    "##### Задача: \n",
    "     Используя представленные данные, создать модель, с помощью которой прогнозируется возможность дефолта - невозврата заёмщиком кредита и соответственно формируется рекомендация выдавать кредит или отказать.\n",
    "     Про заявителей известны различные данные на момент заполнения анкеты. По части выборки известны результаты пользования кредитом (случился дефолт или нет). Необходимо извлечь зависимость из имеющихся данных о заявителях и фактом наличия дефолта, и предсказать результат на тестовых данных. В качестве метрики используется AUC."
   ]
  },
  {
   "cell_type": "code",
   "execution_count": 1,
   "metadata": {},
   "outputs": [],
   "source": [
    "def credit_scoring_VP():\n",
    "    # Импорт библиотек\n",
    "    import pandas as pd\n",
    "    import numpy as np\n",
    "\n",
    "    from sklearn.preprocessing import StandardScaler\n",
    "\n",
    "    from sklearn.model_selection import train_test_split\n",
    "    from sklearn.linear_model import LogisticRegression  \n",
    "    from sklearn.model_selection import GridSearchCV\n",
    "    \n",
    "    from sklearn.metrics import accuracy_score    \n",
    "    \n",
    "    rezalt = [] # В список будут заносится результаты работы функции:\n",
    "#     1. Оптимальный указатель нормы штрафа - индекс 0\n",
    "#     2. Оптимальный инверсия силы регуляризации - индекс 1\n",
    "#     3. Средняя точность для заданных тестовых данных и меток тестовой выборки - - индекс 2\n",
    "#     4. Классификационная оценка точности всего датасета - индекс 3\n",
    "#     5. Датасет sample_submission с столбцами: - индекс 4\n",
    "#         - client_id - индификационный номер клиента;\n",
    "#         - default - целевой признак дефолтности;\n",
    "#         - predicted - предсказанная дефолтность.\n",
    "#     6. Обученная модель LogisticRegression - индекс 5\n",
    " \n",
    "    \n",
    "    # Фиксируем RANDOM_SEED и TEST_SIZE, чтобы ваши эксперименты были воспроизводимы!\n",
    "    RANDOM_SEED = 45\n",
    "    TEST_SIZE = 0.3\n",
    "\n",
    "    # Фиксируем версию пакетов, чтобы эксперименты были воспроизводимы:\n",
    "    !pip freeze > requirements.txt\n",
    "\n",
    "    # Загружаем представленные данные\n",
    "    train_baza = pd.read_csv('сredit_train.csv')\n",
    "    # Адрес на kaggle.com\n",
    "#     train_baza = pd.read_csv('../input/credit-scoring-vp/redit_train.csv')\n",
    "\n",
    "    # Формируем sample_submission\n",
    "    sample_submission = train_baza[['client_id','default']]\n",
    "    sample_submission['client_id'] = sample_submission['client_id'].astype('str')\n",
    "\n",
    "    # Заменим пропуски - nan  в столбце education на GRD\n",
    "    train_baza['education'] = train_baza['education'].fillna('GRD')\n",
    "\n",
    "    # Удаляем признак sex и work_address из датасета\n",
    "    train_baza = train_baza.drop(['sex','work_address'], axis=1)\n",
    "\n",
    "    # Признаки списка col_bin - наименований столбцов преобразуем с использованием метода get_dummies\n",
    "    col_bin = ['education','car','car_type','good_work','home_address','foreign_passport']\n",
    "    for col in col_bin:\n",
    "        train_baza = pd.get_dummies(train_baza, columns=[col], dummy_na=False)\n",
    "\n",
    "    # Удаляем признак education_GRD из датасета\n",
    "    train_baza = train_baza.drop(['education_GRD'], axis=1)\n",
    "\n",
    "    # Понижаем разрядность значений столбца income на 3 разряда\n",
    "    train_baza['income'] = train_baza['income']/1000\n",
    "\n",
    "    # С целью уменьшения степени разряженности данных нормализуем  методом \"прокола\" (метод разработан автором этого проекта)\n",
    "    col_num = list(train_baza)\n",
    "    col_num.remove('client_id')\n",
    "    col_num.remove('default')\n",
    "    for col in col_num:\n",
    "        n = train_baza[col].sum()\n",
    "        for x in range(0,len(train_baza)):\n",
    "            train_baza.at[x,col] = n - train_baza[col][x]# Прокол, поднятие значения ячейки на уровень суммы столбцы\n",
    "            # с последующим вычитанием значения ячейки\n",
    "        try:\n",
    "            train_baza[col] = np.log(train_baza[col]+1) # Логарифмирование полученного столбца\n",
    "        except (ValueError, AttributeError):\n",
    "            pass\n",
    "\n",
    "    # Выделим целевой признак default\n",
    "    Y = list(sample_submission['default'])\n",
    "\n",
    "    # Фиксируем конечные объём данных перед разбиением на тренировочную и тестовую части путём удаления\n",
    "    # столбцов default и client_id\n",
    "    X = train_baza.drop(['client_id','default'], axis=1)\n",
    "\n",
    "    # Проведём разбиение X и Y на обучающий X_train и Y_train, тестовый X_test и Y_test. Разобьём с перемешиванием, доля тестовой\n",
    "    # выборки определим как 33%\n",
    "        \n",
    "    X_train, X_test, Y_train, Y_test = train_test_split(X, Y,  test_size=TEST_SIZE, random_state=RANDOM_SEED, shuffle=True)\n",
    "\n",
    "    # Нормализуем полученные тренировочные и тестовые данные методом fit_transform класса StandardScaler()\n",
    "    col_num = list(X_train)\n",
    "    X_train = StandardScaler().fit_transform(X_train[col_num].values)\n",
    "    X_test = StandardScaler().fit_transform(X_test[col_num].values)\n",
    "\n",
    "    # Проведём процедуру оптимизации гиперпарматров модели LogisticRegression()\n",
    "    # Добавим типы регуляризации\n",
    "    penalty = ['l1', 'l2']\n",
    "\n",
    "    # Зададим ограничения для параметра регуляризации\n",
    "    C = np.logspace(0, 4, 10)\n",
    "\n",
    "    # Создадим гиперпараметры\n",
    "    hyperparameters = dict(C=C, penalty=penalty)\n",
    "\n",
    "    model = LogisticRegression()\n",
    "    model.fit(X_train, Y_train)\n",
    "\n",
    "    # Создаем сетку поиска с использованием 5-кратной перекрестной проверки\n",
    "    hyper_CV = GridSearchCV(model, hyperparameters, cv=5, verbose=0)   \n",
    "\n",
    "    best_model = hyper_CV.fit(X_train, Y_train)\n",
    "    \n",
    "    penalty = best_model.best_estimator_.get_params()['penalty']\n",
    "#     1. Оптимальный указатель нормы штрафа - индекс 0\n",
    "    rezalt.append(best_model.best_estimator_.get_params()['penalty'])\n",
    "    \n",
    "    С = best_model.best_estimator_.get_params()['C']\n",
    "#     2. Оптимальный инверсия силы регуляризации - индекс 1\n",
    "    rezalt.append(best_model.best_estimator_.get_params()['C'])\n",
    "    \n",
    "    # Обучаем модель используя оптимизированные данные на тернинговой выборке\n",
    "    classifier = LogisticRegression(C = С, penalty = penalty,solver='lbfgs',random_state = RANDOM_SEED)\n",
    "    classifier.fit(X_train, Y_train)\n",
    "    \n",
    "    # Получаем оценку обученной модели на тестовой выборке\n",
    "#     3. Средняя точность для заданных тестовых данных и меток тестовой выборки - - индекс 2\n",
    "    rezalt.append(classifier.score(X_test, Y_test))\n",
    "    \n",
    "    # Получаем прогноз дефолтности клиентов по всему датасету\n",
    "    predicted_Y = classifier.predict(X)\n",
    "    \n",
    "    # Получаем оценку обученной модели по всему датасету\n",
    "#     4. Классификационная оценка точности всего датасета - индекс 3\n",
    "    rezalt.append(accuracy_score(predicted_Y, Y))\n",
    "    \n",
    "    # Формируем выходной датасет sample_submission\n",
    "    sample_submission['predicted'] = 0\n",
    "    for x in range(0,len(sample_submission)):\n",
    "        sample_submission.at[x,'predicted'] = predicted_Y[x]\n",
    "#     5. Датасет sample_submission с столбцами: - индекс 4\n",
    "#         - client_id - индификационный номер клиента;\n",
    "#         - default - целевой признак дефолтности;\n",
    "#         - predicted - предсказанная дефолтность. \n",
    "    rezalt.append(sample_submission)\n",
    "    \n",
    "#     6. Обученная модель LogisticRegression - индекс 5\n",
    "    rezalt.append(classifier)\n",
    "    \n",
    "    return rezalt"
   ]
  },
  {
   "cell_type": "code",
   "execution_count": 2,
   "metadata": {},
   "outputs": [],
   "source": [
    "import warnings # игнорирование предупреждений\n",
    "warnings.filterwarnings('ignore')\n",
    "\n",
    "myModel = credit_scoring_VP()"
   ]
  },
  {
   "cell_type": "code",
   "execution_count": 3,
   "metadata": {},
   "outputs": [
    {
     "name": "stdout",
     "output_type": "stream",
     "text": [
      "Оптимальный указатель нормы штрафа -  l2\n",
      "Оптимальный инверсия силы регуляризации -  1.0\n",
      "Средняя точность для заданных тестовых данных и меток тестовой выборки -  0.8687\n",
      "Классификационная оценка точности всего датасета -  0.873\n",
      "Обученная модель для дальнейшего использования -  LogisticRegression(random_state=45)\n"
     ]
    }
   ],
   "source": [
    "print('Оптимальный указатель нормы штрафа - ',myModel[0])\n",
    "print('Оптимальный инверсия силы регуляризации - ',myModel[1])\n",
    "print('Средняя точность для заданных тестовых данных и меток тестовой выборки - ',round(myModel[2],4))\n",
    "print('Классификационная оценка точности всего датасета - ',round(myModel[3],4))\n",
    "print('Обученная модель для дальнейшего использования - ',myModel[5])"
   ]
  },
  {
   "cell_type": "code",
   "execution_count": 4,
   "metadata": {},
   "outputs": [
    {
     "name": "stdout",
     "output_type": "stream",
     "text": [
      "0.8730064093009391\n"
     ]
    }
   ],
   "source": [
    "from sklearn.metrics import accuracy_score\n",
    "print(accuracy_score(list(myModel[4]['default']), list(myModel[4]['predicted'])))"
   ]
  },
  {
   "cell_type": "code",
   "execution_count": 5,
   "metadata": {},
   "outputs": [],
   "source": [
    "df = myModel[4]\n",
    "df = df.drop(['default'], axis=1)\n",
    "df.columns = ['Loan ID', 'Loan Status']\n",
    "df.to_csv('credit__sample.csv', index=False)"
   ]
  },
  {
   "cell_type": "markdown",
   "metadata": {},
   "source": [
    "#### <i>Верхний блок и нижний блок проекта для размещения на GitHub https://github.com/VictorPetrochenkov</i>"
   ]
  },
  {
   "cell_type": "code",
   "execution_count": 6,
   "metadata": {},
   "outputs": [],
   "source": [
    "# Импортируем необходимые библиотеки\n",
    "import pandas as pd\n",
    "import numpy as np\n",
    "from pandas import Series\n",
    "\n",
    "import matplotlib.pyplot as plt\n",
    "import seaborn as sns\n",
    "\n",
    "from sklearn.feature_selection import f_classif\n",
    "from sklearn.preprocessing import LabelEncoder, StandardScaler\n",
    "\n",
    "from sklearn.model_selection import train_test_split\n",
    "from sklearn.linear_model import LogisticRegression\n",
    "from sklearn.tree import DecisionTreeClassifier\n"
   ]
  },
  {
   "cell_type": "code",
   "execution_count": 7,
   "metadata": {},
   "outputs": [],
   "source": [
    "# Зафиксируем версию пакетов, чтобы эксперименты были воспроизводимы:\n",
    "RANDOM_SEED = 45\n",
    "TEST_SIZE = 0.3\n",
    "CURRENT_DATE = pd.to_datetime('20/01/2021')"
   ]
  },
  {
   "cell_type": "code",
   "execution_count": 8,
   "metadata": {},
   "outputs": [
    {
     "data": {
      "text/html": [
       "<div>\n",
       "<style scoped>\n",
       "    .dataframe tbody tr th:only-of-type {\n",
       "        vertical-align: middle;\n",
       "    }\n",
       "\n",
       "    .dataframe tbody tr th {\n",
       "        vertical-align: top;\n",
       "    }\n",
       "\n",
       "    .dataframe thead th {\n",
       "        text-align: right;\n",
       "    }\n",
       "</style>\n",
       "<table border=\"1\" class=\"dataframe\">\n",
       "  <thead>\n",
       "    <tr style=\"text-align: right;\">\n",
       "      <th></th>\n",
       "      <th>client_id</th>\n",
       "      <th>education</th>\n",
       "      <th>sex</th>\n",
       "      <th>age</th>\n",
       "      <th>car</th>\n",
       "      <th>car_type</th>\n",
       "      <th>decline_app_cnt</th>\n",
       "      <th>good_work</th>\n",
       "      <th>bki_request_cnt</th>\n",
       "      <th>home_address</th>\n",
       "      <th>work_address</th>\n",
       "      <th>income</th>\n",
       "      <th>foreign_passport</th>\n",
       "      <th>default</th>\n",
       "    </tr>\n",
       "  </thead>\n",
       "  <tbody>\n",
       "    <tr>\n",
       "      <th>0</th>\n",
       "      <td>25905</td>\n",
       "      <td>SCH</td>\n",
       "      <td>M</td>\n",
       "      <td>62</td>\n",
       "      <td>Y</td>\n",
       "      <td>Y</td>\n",
       "      <td>0</td>\n",
       "      <td>0</td>\n",
       "      <td>1</td>\n",
       "      <td>1</td>\n",
       "      <td>2</td>\n",
       "      <td>18000</td>\n",
       "      <td>N</td>\n",
       "      <td>0</td>\n",
       "    </tr>\n",
       "    <tr>\n",
       "      <th>1</th>\n",
       "      <td>63161</td>\n",
       "      <td>SCH</td>\n",
       "      <td>F</td>\n",
       "      <td>59</td>\n",
       "      <td>N</td>\n",
       "      <td>N</td>\n",
       "      <td>0</td>\n",
       "      <td>0</td>\n",
       "      <td>3</td>\n",
       "      <td>2</td>\n",
       "      <td>3</td>\n",
       "      <td>19000</td>\n",
       "      <td>N</td>\n",
       "      <td>0</td>\n",
       "    </tr>\n",
       "    <tr>\n",
       "      <th>2</th>\n",
       "      <td>25887</td>\n",
       "      <td>SCH</td>\n",
       "      <td>M</td>\n",
       "      <td>25</td>\n",
       "      <td>Y</td>\n",
       "      <td>N</td>\n",
       "      <td>2</td>\n",
       "      <td>0</td>\n",
       "      <td>1</td>\n",
       "      <td>1</td>\n",
       "      <td>2</td>\n",
       "      <td>30000</td>\n",
       "      <td>Y</td>\n",
       "      <td>0</td>\n",
       "    </tr>\n",
       "    <tr>\n",
       "      <th>3</th>\n",
       "      <td>16222</td>\n",
       "      <td>SCH</td>\n",
       "      <td>F</td>\n",
       "      <td>53</td>\n",
       "      <td>N</td>\n",
       "      <td>N</td>\n",
       "      <td>0</td>\n",
       "      <td>0</td>\n",
       "      <td>2</td>\n",
       "      <td>2</td>\n",
       "      <td>3</td>\n",
       "      <td>10000</td>\n",
       "      <td>N</td>\n",
       "      <td>0</td>\n",
       "    </tr>\n",
       "    <tr>\n",
       "      <th>4</th>\n",
       "      <td>101655</td>\n",
       "      <td>GRD</td>\n",
       "      <td>M</td>\n",
       "      <td>48</td>\n",
       "      <td>N</td>\n",
       "      <td>N</td>\n",
       "      <td>0</td>\n",
       "      <td>1</td>\n",
       "      <td>1</td>\n",
       "      <td>2</td>\n",
       "      <td>3</td>\n",
       "      <td>30000</td>\n",
       "      <td>Y</td>\n",
       "      <td>0</td>\n",
       "    </tr>\n",
       "  </tbody>\n",
       "</table>\n",
       "</div>"
      ],
      "text/plain": [
       "   client_id education sex  age car car_type  decline_app_cnt  good_work  \\\n",
       "0      25905       SCH   M   62   Y        Y                0          0   \n",
       "1      63161       SCH   F   59   N        N                0          0   \n",
       "2      25887       SCH   M   25   Y        N                2          0   \n",
       "3      16222       SCH   F   53   N        N                0          0   \n",
       "4     101655       GRD   M   48   N        N                0          1   \n",
       "\n",
       "   bki_request_cnt  home_address  work_address  income foreign_passport  \\\n",
       "0                1             1             2   18000                N   \n",
       "1                3             2             3   19000                N   \n",
       "2                1             1             2   30000                Y   \n",
       "3                2             2             3   10000                N   \n",
       "4                1             2             3   30000                Y   \n",
       "\n",
       "   default  \n",
       "0        0  \n",
       "1        0  \n",
       "2        0  \n",
       "3        0  \n",
       "4        0  "
      ]
     },
     "metadata": {},
     "output_type": "display_data"
    },
    {
     "name": "stdout",
     "output_type": "stream",
     "text": [
      "<class 'pandas.core.frame.DataFrame'>\n",
      "RangeIndex: 73799 entries, 0 to 73798\n",
      "Data columns (total 14 columns):\n",
      " #   Column            Non-Null Count  Dtype \n",
      "---  ------            --------------  ----- \n",
      " 0   client_id         73799 non-null  int64 \n",
      " 1   education         73492 non-null  object\n",
      " 2   sex               73799 non-null  object\n",
      " 3   age               73799 non-null  int64 \n",
      " 4   car               73799 non-null  object\n",
      " 5   car_type          73799 non-null  object\n",
      " 6   decline_app_cnt   73799 non-null  int64 \n",
      " 7   good_work         73799 non-null  int64 \n",
      " 8   bki_request_cnt   73799 non-null  int64 \n",
      " 9   home_address      73799 non-null  int64 \n",
      " 10  work_address      73799 non-null  int64 \n",
      " 11  income            73799 non-null  int64 \n",
      " 12  foreign_passport  73799 non-null  object\n",
      " 13  default           73799 non-null  int64 \n",
      "dtypes: int64(9), object(5)\n",
      "memory usage: 7.9+ MB\n"
     ]
    }
   ],
   "source": [
    "# Загружаем представленные данные\n",
    "train_baza = pd.read_csv('сredit_train.csv')\n",
    "\n",
    "# Выводим первые пять строк загруженных данных\n",
    "display(train_baza.head(5))\n",
    "\n",
    "# Выводим обшую информацию \n",
    "train_baza.info()"
   ]
  },
  {
   "attachments": {
    "image-2.png": {
     "image/png": "[encoded data removed]"
    }
   },
   "cell_type": "markdown",
   "metadata": {},
   "source": [
    "### Описание параметров\n",
    "![image-2.png](attachment:image-2.png)\n",
    "\n",
    "Из информационной таблицы видно, что незаполненный значениями один параметр <b>*education*</b>\n",
    "\n",
    "Целевой переменной в данной задаче считается <b>*default*</b>\n",
    "\n",
    "С целью выяснения принадлежности переменных к бинарному или псевдобинарному виду, определим переменные, количество уникальных значений которых ограничены (фиксируем не более 10 возможных вариантов)."
   ]
  },
  {
   "cell_type": "markdown",
   "metadata": {},
   "source": [
    "# №1 Предобработка исходных данных"
   ]
  },
  {
   "cell_type": "code",
   "execution_count": 9,
   "metadata": {},
   "outputs": [
    {
     "name": "stdout",
     "output_type": "stream",
     "text": [
      "education => {nan, 'SCH', 'PGR', 'UGR', 'ACD', 'GRD'}\n",
      "sex => {'F', 'M'}\n",
      "car => {'N', 'Y'}\n",
      "car_type => {'N', 'Y'}\n",
      "good_work => {0, 1}\n",
      "home_address => {1, 2, 3}\n",
      "work_address => {1, 2, 3}\n",
      "foreign_passport => {'N', 'Y'}\n",
      "default => {0, 1}\n"
     ]
    }
   ],
   "source": [
    "object_col =[]\n",
    "for i in list(train_baza):\n",
    "    if len(set(train_baza[i])) <10:\n",
    "        object_col.append(i)\n",
    "        print(i,'=>',set(train_baza[i]))        "
   ]
  },
  {
   "cell_type": "code",
   "execution_count": 10,
   "metadata": {},
   "outputs": [
    {
     "name": "stdout",
     "output_type": "stream",
     "text": [
      "SCH    38860\n",
      "GRD    23365\n",
      "UGR     9816\n",
      "PGR     1257\n",
      "ACD      194\n",
      "Name: education, dtype: int64\n",
      "Количество пустых ячеек =  307\n"
     ]
    }
   ],
   "source": [
    "# Столбец education содержит количество уникальных значений\n",
    "print(train_baza.education.value_counts())\n",
    "print('Количество пустых ячеек = ',train_baza['education'].isnull().sum())"
   ]
  },
  {
   "cell_type": "code",
   "execution_count": 11,
   "metadata": {},
   "outputs": [],
   "source": [
    "# Разделим исходный датасет train_baza на два датасет train_baza_num и train_baza_bin. В первом датасете будут\n",
    "# находится некатегориальные признаки, во втором бинарные и псевдобинарные\n",
    "train_baza_num = pd.DataFrame(train_baza.drop(object_col, axis = 1))\n",
    "object_col.append('client_id')\n",
    "train_baza_bin = pd.DataFrame(train_baza[object_col])"
   ]
  },
  {
   "cell_type": "code",
   "execution_count": 12,
   "metadata": {},
   "outputs": [],
   "source": [
    "# Заменим пропуски - nan  в столбце education на NN\n",
    "train_baza_bin['education'] = train_baza_bin['education'].fillna('NN')"
   ]
  },
  {
   "cell_type": "code",
   "execution_count": 13,
   "metadata": {},
   "outputs": [
    {
     "name": "stdout",
     "output_type": "stream",
     "text": [
      "education => {1, 2, 3, 4, 5, 6}\n",
      "sex => {1, 2}\n",
      "car => {1, 2}\n",
      "car_type => {1, 2}\n",
      "good_work => {1, 2}\n",
      "home_address => {1, 2, 3}\n",
      "work_address => {1, 2, 3}\n",
      "foreign_passport => {1, 2}\n",
      "default => {1, 2}\n"
     ]
    }
   ],
   "source": [
    "# Категориальные признаки столбцов списка object_col преобразуем с использованием класса LabelEncoder\n",
    "encoder = LabelEncoder()\n",
    "for f in object_col:\n",
    "    if f !='client_id':\n",
    "        train_baza_bin[f] = encoder.fit_transform(train_baza_bin[f])\n",
    "\n",
    "# Вывод уникальных значений после преобразования категориальных признаков\n",
    "for i in list(train_baza_bin):\n",
    "    if len(set(train_baza_bin[i])) <10:\n",
    "        train_baza_bin[i] = train_baza_bin[i]+1 # Добавим единицу с целью исключения появления 0\n",
    "        print(i,'=>',set(train_baza_bin[i]))   "
   ]
  },
  {
   "cell_type": "code",
   "execution_count": 14,
   "metadata": {},
   "outputs": [
    {
     "name": "stdout",
     "output_type": "stream",
     "text": [
      "5    38860\n",
      "2    23365\n",
      "6     9816\n",
      "4     1257\n",
      "3      307\n",
      "1      194\n",
      "Name: education, dtype: int64\n"
     ]
    }
   ],
   "source": [
    "# Определение количествонного соответсвия значений, которым была заменены пустые ячейки, \n",
    "# произведём по количествоенному совпадению\n",
    "print(train_baza_bin.education.value_counts())"
   ]
  },
  {
   "cell_type": "markdown",
   "metadata": {},
   "source": [
    "В процессе преобразование классом LabelEncoder, пустые значения столбца *education* были заменены числом 3. Остальные уровни образования согласно соотвествия:\n",
    "<p>SCH -   38860 = 5 -   38860</p>\n",
    "<p>GRD -   23365 = 2 -   23365</p>\n",
    "<p>UGR -    9816 = 6 -    9816</p>\n",
    "<p>PGR -    1257 = 4 -    1257</p>\n",
    "<p>ACD -     194 = 1 -     194</p>\n",
    "<p>Name: education, dtype: int64</p>\n",
    "<p>Количество пустых ячеек =  307 => 3 - 307</p>\n",
    "\n",
    "<p>Значения параметра *sex* женщина - F, мужчина - M, были заменены на 1 и 2 соответственно</p>\n",
    "<p>Значения параметра *car* нет машины - N, и есть машина - Y, были заменены на 1 и 2 соответственно</p>\n",
    "<p>Значения параметра *car_type* не иномарка - N, и иномарка - Y, были заменены на 1 и 2 соответственно</p>\n",
    "<p>Значения параметра *foreign_passport* нет загранпаспорта - N, и есть загранпаспорт - Y, были заменены на 1 и 2 соответственно</p>\n",
    "\n",
    "\n",
    "#### Замена пустых ячеек числом 3 временная. Окончательное заполнение ячеек будет производится в результате обучения датасета, где целевой переменной будет выступать столбец education\n",
    "Проведём обработку датасета train_baza_num"
   ]
  },
  {
   "cell_type": "code",
   "execution_count": 15,
   "metadata": {},
   "outputs": [
    {
     "data": {
      "text/html": [
       "<div>\n",
       "<style scoped>\n",
       "    .dataframe tbody tr th:only-of-type {\n",
       "        vertical-align: middle;\n",
       "    }\n",
       "\n",
       "    .dataframe tbody tr th {\n",
       "        vertical-align: top;\n",
       "    }\n",
       "\n",
       "    .dataframe thead th {\n",
       "        text-align: right;\n",
       "    }\n",
       "</style>\n",
       "<table border=\"1\" class=\"dataframe\">\n",
       "  <thead>\n",
       "    <tr style=\"text-align: right;\">\n",
       "      <th></th>\n",
       "      <th>client_id</th>\n",
       "      <th>age</th>\n",
       "      <th>decline_app_cnt</th>\n",
       "      <th>bki_request_cnt</th>\n",
       "      <th>income</th>\n",
       "    </tr>\n",
       "  </thead>\n",
       "  <tbody>\n",
       "    <tr>\n",
       "      <th>count</th>\n",
       "      <td>73799.000000</td>\n",
       "      <td>73799.000000</td>\n",
       "      <td>73799.000000</td>\n",
       "      <td>73799.000000</td>\n",
       "      <td>73799.000000</td>\n",
       "    </tr>\n",
       "    <tr>\n",
       "      <th>mean</th>\n",
       "      <td>55137.965094</td>\n",
       "      <td>39.280641</td>\n",
       "      <td>0.275749</td>\n",
       "      <td>2.000339</td>\n",
       "      <td>41099.775417</td>\n",
       "    </tr>\n",
       "    <tr>\n",
       "      <th>std</th>\n",
       "      <td>31841.921168</td>\n",
       "      <td>11.520378</td>\n",
       "      <td>0.804272</td>\n",
       "      <td>2.252073</td>\n",
       "      <td>46166.322400</td>\n",
       "    </tr>\n",
       "    <tr>\n",
       "      <th>min</th>\n",
       "      <td>1.000000</td>\n",
       "      <td>21.000000</td>\n",
       "      <td>0.000000</td>\n",
       "      <td>0.000000</td>\n",
       "      <td>1000.000000</td>\n",
       "    </tr>\n",
       "    <tr>\n",
       "      <th>25%</th>\n",
       "      <td>27440.500000</td>\n",
       "      <td>30.000000</td>\n",
       "      <td>0.000000</td>\n",
       "      <td>0.000000</td>\n",
       "      <td>20000.000000</td>\n",
       "    </tr>\n",
       "    <tr>\n",
       "      <th>50%</th>\n",
       "      <td>55274.000000</td>\n",
       "      <td>37.000000</td>\n",
       "      <td>0.000000</td>\n",
       "      <td>1.000000</td>\n",
       "      <td>30000.000000</td>\n",
       "    </tr>\n",
       "    <tr>\n",
       "      <th>75%</th>\n",
       "      <td>82758.500000</td>\n",
       "      <td>48.000000</td>\n",
       "      <td>0.000000</td>\n",
       "      <td>3.000000</td>\n",
       "      <td>48000.000000</td>\n",
       "    </tr>\n",
       "    <tr>\n",
       "      <th>max</th>\n",
       "      <td>110147.000000</td>\n",
       "      <td>72.000000</td>\n",
       "      <td>33.000000</td>\n",
       "      <td>53.000000</td>\n",
       "      <td>1000000.000000</td>\n",
       "    </tr>\n",
       "  </tbody>\n",
       "</table>\n",
       "</div>"
      ],
      "text/plain": [
       "           client_id           age  decline_app_cnt  bki_request_cnt  \\\n",
       "count   73799.000000  73799.000000     73799.000000     73799.000000   \n",
       "mean    55137.965094     39.280641         0.275749         2.000339   \n",
       "std     31841.921168     11.520378         0.804272         2.252073   \n",
       "min         1.000000     21.000000         0.000000         0.000000   \n",
       "25%     27440.500000     30.000000         0.000000         0.000000   \n",
       "50%     55274.000000     37.000000         0.000000         1.000000   \n",
       "75%     82758.500000     48.000000         0.000000         3.000000   \n",
       "max    110147.000000     72.000000        33.000000        53.000000   \n",
       "\n",
       "               income  \n",
       "count    73799.000000  \n",
       "mean     41099.775417  \n",
       "std      46166.322400  \n",
       "min       1000.000000  \n",
       "25%      20000.000000  \n",
       "50%      30000.000000  \n",
       "75%      48000.000000  \n",
       "max    1000000.000000  "
      ]
     },
     "execution_count": 15,
     "metadata": {},
     "output_type": "execute_result"
    }
   ],
   "source": [
    "train_baza_num.describe()"
   ]
  },
  {
   "cell_type": "markdown",
   "metadata": {},
   "source": [
    "Наблюдается существенная количественная разница в столбце *income*"
   ]
  },
  {
   "cell_type": "code",
   "execution_count": 16,
   "metadata": {},
   "outputs": [
    {
     "name": "stdout",
     "output_type": "stream",
     "text": [
      "Минимальное значение столбца income =  1.0\n",
      "Максимальное значение столбца income =  1000.0\n"
     ]
    }
   ],
   "source": [
    "# Применим процедуру понижения разряда. Видно, что значения столбца income можно понизить на три разряда\n",
    "train_baza_num['income'] = train_baza_num['income']/1000\n",
    "print('Минимальное значение столбца income = ',train_baza_num['income'].min())\n",
    "print('Максимальное значение столбца income = ',train_baza_num['income'].max())"
   ]
  },
  {
   "cell_type": "markdown",
   "metadata": {},
   "source": [
    "Однако, после этой процедуры сохраняется числовой разрыв между минимальным и максимальным значениями в 1000 раз.\n",
    "В качестве дополнительной процедуры \"сглаживания\" разрыва, применим процедуру логарифмирования. Процедуру применим ко всем столбцам датасета train_baza_num, за исключением столбца *client_id*"
   ]
  },
  {
   "cell_type": "code",
   "execution_count": 17,
   "metadata": {
    "scrolled": true
   },
   "outputs": [
    {
     "data": {
      "text/html": [
       "<div>\n",
       "<style scoped>\n",
       "    .dataframe tbody tr th:only-of-type {\n",
       "        vertical-align: middle;\n",
       "    }\n",
       "\n",
       "    .dataframe tbody tr th {\n",
       "        vertical-align: top;\n",
       "    }\n",
       "\n",
       "    .dataframe thead th {\n",
       "        text-align: right;\n",
       "    }\n",
       "</style>\n",
       "<table border=\"1\" class=\"dataframe\">\n",
       "  <thead>\n",
       "    <tr style=\"text-align: right;\">\n",
       "      <th></th>\n",
       "      <th>client_id</th>\n",
       "      <th>age</th>\n",
       "      <th>decline_app_cnt</th>\n",
       "      <th>bki_request_cnt</th>\n",
       "      <th>income</th>\n",
       "    </tr>\n",
       "  </thead>\n",
       "  <tbody>\n",
       "    <tr>\n",
       "      <th>count</th>\n",
       "      <td>73799.000000</td>\n",
       "      <td>73799.000000</td>\n",
       "      <td>73799.000000</td>\n",
       "      <td>73799.000000</td>\n",
       "      <td>73799.000000</td>\n",
       "    </tr>\n",
       "    <tr>\n",
       "      <th>mean</th>\n",
       "      <td>55137.965094</td>\n",
       "      <td>3.655332</td>\n",
       "      <td>0.152451</td>\n",
       "      <td>0.878014</td>\n",
       "      <td>3.477366</td>\n",
       "    </tr>\n",
       "    <tr>\n",
       "      <th>std</th>\n",
       "      <td>31841.921168</td>\n",
       "      <td>0.285077</td>\n",
       "      <td>0.362971</td>\n",
       "      <td>0.657881</td>\n",
       "      <td>0.672842</td>\n",
       "    </tr>\n",
       "    <tr>\n",
       "      <th>min</th>\n",
       "      <td>1.000000</td>\n",
       "      <td>3.091042</td>\n",
       "      <td>0.000000</td>\n",
       "      <td>0.000000</td>\n",
       "      <td>0.693147</td>\n",
       "    </tr>\n",
       "    <tr>\n",
       "      <th>25%</th>\n",
       "      <td>27440.500000</td>\n",
       "      <td>3.433987</td>\n",
       "      <td>0.000000</td>\n",
       "      <td>0.000000</td>\n",
       "      <td>3.044522</td>\n",
       "    </tr>\n",
       "    <tr>\n",
       "      <th>50%</th>\n",
       "      <td>55274.000000</td>\n",
       "      <td>3.637586</td>\n",
       "      <td>0.000000</td>\n",
       "      <td>0.693147</td>\n",
       "      <td>3.433987</td>\n",
       "    </tr>\n",
       "    <tr>\n",
       "      <th>75%</th>\n",
       "      <td>82758.500000</td>\n",
       "      <td>3.891820</td>\n",
       "      <td>0.000000</td>\n",
       "      <td>1.386294</td>\n",
       "      <td>3.891820</td>\n",
       "    </tr>\n",
       "    <tr>\n",
       "      <th>max</th>\n",
       "      <td>110147.000000</td>\n",
       "      <td>4.290459</td>\n",
       "      <td>3.526361</td>\n",
       "      <td>3.988984</td>\n",
       "      <td>6.908755</td>\n",
       "    </tr>\n",
       "  </tbody>\n",
       "</table>\n",
       "</div>"
      ],
      "text/plain": [
       "           client_id           age  decline_app_cnt  bki_request_cnt  \\\n",
       "count   73799.000000  73799.000000     73799.000000     73799.000000   \n",
       "mean    55137.965094      3.655332         0.152451         0.878014   \n",
       "std     31841.921168      0.285077         0.362971         0.657881   \n",
       "min         1.000000      3.091042         0.000000         0.000000   \n",
       "25%     27440.500000      3.433987         0.000000         0.000000   \n",
       "50%     55274.000000      3.637586         0.000000         0.693147   \n",
       "75%     82758.500000      3.891820         0.000000         1.386294   \n",
       "max    110147.000000      4.290459         3.526361         3.988984   \n",
       "\n",
       "             income  \n",
       "count  73799.000000  \n",
       "mean       3.477366  \n",
       "std        0.672842  \n",
       "min        0.693147  \n",
       "25%        3.044522  \n",
       "50%        3.433987  \n",
       "75%        3.891820  \n",
       "max        6.908755  "
      ]
     },
     "execution_count": 17,
     "metadata": {},
     "output_type": "execute_result"
    }
   ],
   "source": [
    "for column in train_baza_num.columns[1:]:\n",
    "    try:\n",
    "        train_baza_num[column] = np.log(train_baza_num[column]+1)\n",
    "    except (ValueError, AttributeError):\n",
    "        pass\n",
    "train_baza_num.describe()"
   ]
  },
  {
   "cell_type": "markdown",
   "metadata": {},
   "source": [
    "Объеденим датасеты train_baza_num и train_baza_bin по парметру *client_id*"
   ]
  },
  {
   "cell_type": "code",
   "execution_count": 18,
   "metadata": {},
   "outputs": [],
   "source": [
    "new_train_baza = train_baza_num.merge(train_baza_bin)"
   ]
  },
  {
   "cell_type": "code",
   "execution_count": 19,
   "metadata": {},
   "outputs": [],
   "source": [
    "# Удалим из полученного датасета столбец client_id, как неинформативный\n",
    "new_train_baza = new_train_baza.drop('client_id', axis=1)"
   ]
  },
  {
   "cell_type": "code",
   "execution_count": 20,
   "metadata": {},
   "outputs": [
    {
     "name": "stdout",
     "output_type": "stream",
     "text": [
      "Количество дубликатов строк = 7022\n"
     ]
    }
   ],
   "source": [
    "# Проверяем датасет на наличие дубликатов строк\n",
    "dub= new_train_baza[new_train_baza.duplicated()]\n",
    "print('Количество дубликатов строк =',len(dub))"
   ]
  },
  {
   "cell_type": "code",
   "execution_count": 21,
   "metadata": {},
   "outputs": [
    {
     "name": "stdout",
     "output_type": "stream",
     "text": [
      "<class 'pandas.core.frame.DataFrame'>\n",
      "Int64Index: 66777 entries, 0 to 73797\n",
      "Data columns (total 13 columns):\n",
      " #   Column            Non-Null Count  Dtype  \n",
      "---  ------            --------------  -----  \n",
      " 0   age               66777 non-null  float64\n",
      " 1   decline_app_cnt   66777 non-null  float64\n",
      " 2   bki_request_cnt   66777 non-null  float64\n",
      " 3   income            66777 non-null  float64\n",
      " 4   education         66777 non-null  int32  \n",
      " 5   sex               66777 non-null  int32  \n",
      " 6   car               66777 non-null  int32  \n",
      " 7   car_type          66777 non-null  int32  \n",
      " 8   good_work         66777 non-null  int64  \n",
      " 9   home_address      66777 non-null  int64  \n",
      " 10  work_address      66777 non-null  int64  \n",
      " 11  foreign_passport  66777 non-null  int32  \n",
      " 12  default           66777 non-null  int64  \n",
      "dtypes: float64(4), int32(5), int64(4)\n",
      "memory usage: 5.9 MB\n"
     ]
    }
   ],
   "source": [
    "# Удаляем дубликаты строк, оставляя строки первого вхождения (при окончательном обучении модели дубликаты удаляться не будут)\n",
    "new_train_baza = new_train_baza.drop_duplicates()\n",
    "new_train_baza.info()"
   ]
  },
  {
   "cell_type": "code",
   "execution_count": 22,
   "metadata": {},
   "outputs": [
    {
     "name": "stdout",
     "output_type": "stream",
     "text": [
      "Столбец  age  имеет 0 выбросов\n",
      "Столбец  decline_app_cnt  выбросов не имеет\n",
      "Столбец  bki_request_cnt  выбросов не имеет\n",
      "Столбец  income  имеет 1086 выбросов\n",
      "Столбец  education  имеет 0 выбросов\n",
      "Столбец  sex  имеет 0 выбросов\n",
      "Столбец  car  имеет 0 выбросов\n",
      "Столбец  car_type  выбросов не имеет\n",
      "Столбец  good_work  выбросов не имеет\n",
      "Столбец  home_address  имеет 0 выбросов\n",
      "Столбец  work_address  имеет 0 выбросов\n",
      "Столбец  foreign_passport  выбросов не имеет\n",
      "Столбец  default  выбросов не имеет\n"
     ]
    }
   ],
   "source": [
    "# Расчёт выбросов по столбцам\n",
    "for y in list(new_train_baza):\n",
    "    Q1_date = new_train_baza[y].quantile(.25)\n",
    "    Q3_date = new_train_baza[y].quantile(.75)\n",
    "    q1_date = Q1_date-1.5*(Q3_date-Q1_date)\n",
    "    q3_date = Q3_date+1.5*(Q3_date-Q1_date)\n",
    "    min_q = [x for x in new_train_baza[y] if x < q1_date]\n",
    "    max_q = [x for x in new_train_baza[y] if x > q3_date]\n",
    "    if len(min_q) == 0 and len(max_q):\n",
    "        print('Столбец ', y, ' выбросов не имеет')\n",
    "    else:\n",
    "        print('Столбец ', y, ' имеет', len(min_q) + len(max_q), 'выбросов') "
   ]
  },
  {
   "cell_type": "markdown",
   "metadata": {},
   "source": [
    "Выбросы присутствуют только в столбце *income*, что логично, так как за кредитами обращаются клиенты с разным уровнем дохода.\n",
    "Строки в которых присутствуют выбросы из датасета удаляться не будут.\n",
    "\n",
    "###### Проведём проверку датасета на наличие коллинеарности признаков.\n",
    "\n",
    "Посчитаем взаимосвязь между признаками путём вычисления коэффициента корреляции Пирсона. Это мера интенсивности и направления линейной зависимости между двумя переменными. Значение +1 означает идеально линейную положительную зависимость, а -1 означает идеально линейную отрицательную зависимость. Будем считать, что взаимосвязь между параметрами сильная при уровне корреляции выше 0.7"
   ]
  },
  {
   "cell_type": "code",
   "execution_count": 23,
   "metadata": {},
   "outputs": [
    {
     "name": "stdout",
     "output_type": "stream",
     "text": [
      "home_address 0.7144747348004825\n",
      "work_address 0.7144747348004825\n"
     ]
    }
   ],
   "source": [
    "corr = new_train_baza.corr()\n",
    "for i in list(corr):\n",
    "    for j in range(0,len(corr)):\n",
    "        if corr[i][j] >0.7 and corr[i][j] !=1:\n",
    "            zn = corr[i][j]\n",
    "            print(i,zn)\n"
   ]
  },
  {
   "cell_type": "markdown",
   "metadata": {},
   "source": [
    "Наблюдается сильная взаимосвязь между признаками *home_address* и *work_address*, что так же обяснимо, за кредитом чаще обращаются частные предпиниматели, юридический адрес их компаний совпадает с адерсом их проживания. Удалим из датасета признак *work_address*."
   ]
  },
  {
   "cell_type": "code",
   "execution_count": 24,
   "metadata": {},
   "outputs": [
    {
     "data": {
      "text/html": [
       "<div>\n",
       "<style scoped>\n",
       "    .dataframe tbody tr th:only-of-type {\n",
       "        vertical-align: middle;\n",
       "    }\n",
       "\n",
       "    .dataframe tbody tr th {\n",
       "        vertical-align: top;\n",
       "    }\n",
       "\n",
       "    .dataframe thead th {\n",
       "        text-align: right;\n",
       "    }\n",
       "</style>\n",
       "<table border=\"1\" class=\"dataframe\">\n",
       "  <thead>\n",
       "    <tr style=\"text-align: right;\">\n",
       "      <th></th>\n",
       "      <th>age</th>\n",
       "      <th>decline_app_cnt</th>\n",
       "      <th>bki_request_cnt</th>\n",
       "      <th>income</th>\n",
       "      <th>education</th>\n",
       "      <th>sex</th>\n",
       "      <th>car</th>\n",
       "      <th>car_type</th>\n",
       "      <th>good_work</th>\n",
       "      <th>foreign_passport</th>\n",
       "      <th>default</th>\n",
       "      <th>home_address_1</th>\n",
       "      <th>home_address_2</th>\n",
       "      <th>home_address_3</th>\n",
       "    </tr>\n",
       "  </thead>\n",
       "  <tbody>\n",
       "    <tr>\n",
       "      <th>0</th>\n",
       "      <td>4.143135</td>\n",
       "      <td>0.000000</td>\n",
       "      <td>0.693147</td>\n",
       "      <td>2.944439</td>\n",
       "      <td>5</td>\n",
       "      <td>2</td>\n",
       "      <td>2</td>\n",
       "      <td>2</td>\n",
       "      <td>1</td>\n",
       "      <td>1</td>\n",
       "      <td>1</td>\n",
       "      <td>1</td>\n",
       "      <td>0</td>\n",
       "      <td>0</td>\n",
       "    </tr>\n",
       "    <tr>\n",
       "      <th>1</th>\n",
       "      <td>4.094345</td>\n",
       "      <td>0.000000</td>\n",
       "      <td>1.386294</td>\n",
       "      <td>2.995732</td>\n",
       "      <td>5</td>\n",
       "      <td>1</td>\n",
       "      <td>1</td>\n",
       "      <td>1</td>\n",
       "      <td>1</td>\n",
       "      <td>1</td>\n",
       "      <td>1</td>\n",
       "      <td>0</td>\n",
       "      <td>1</td>\n",
       "      <td>0</td>\n",
       "    </tr>\n",
       "    <tr>\n",
       "      <th>2</th>\n",
       "      <td>3.258097</td>\n",
       "      <td>1.098612</td>\n",
       "      <td>0.693147</td>\n",
       "      <td>3.433987</td>\n",
       "      <td>5</td>\n",
       "      <td>2</td>\n",
       "      <td>2</td>\n",
       "      <td>1</td>\n",
       "      <td>1</td>\n",
       "      <td>2</td>\n",
       "      <td>1</td>\n",
       "      <td>1</td>\n",
       "      <td>0</td>\n",
       "      <td>0</td>\n",
       "    </tr>\n",
       "    <tr>\n",
       "      <th>3</th>\n",
       "      <td>3.988984</td>\n",
       "      <td>0.000000</td>\n",
       "      <td>1.098612</td>\n",
       "      <td>2.397895</td>\n",
       "      <td>5</td>\n",
       "      <td>1</td>\n",
       "      <td>1</td>\n",
       "      <td>1</td>\n",
       "      <td>1</td>\n",
       "      <td>1</td>\n",
       "      <td>1</td>\n",
       "      <td>0</td>\n",
       "      <td>1</td>\n",
       "      <td>0</td>\n",
       "    </tr>\n",
       "    <tr>\n",
       "      <th>4</th>\n",
       "      <td>3.891820</td>\n",
       "      <td>0.000000</td>\n",
       "      <td>0.693147</td>\n",
       "      <td>3.433987</td>\n",
       "      <td>2</td>\n",
       "      <td>2</td>\n",
       "      <td>1</td>\n",
       "      <td>1</td>\n",
       "      <td>2</td>\n",
       "      <td>2</td>\n",
       "      <td>1</td>\n",
       "      <td>0</td>\n",
       "      <td>1</td>\n",
       "      <td>0</td>\n",
       "    </tr>\n",
       "    <tr>\n",
       "      <th>...</th>\n",
       "      <td>...</td>\n",
       "      <td>...</td>\n",
       "      <td>...</td>\n",
       "      <td>...</td>\n",
       "      <td>...</td>\n",
       "      <td>...</td>\n",
       "      <td>...</td>\n",
       "      <td>...</td>\n",
       "      <td>...</td>\n",
       "      <td>...</td>\n",
       "      <td>...</td>\n",
       "      <td>...</td>\n",
       "      <td>...</td>\n",
       "      <td>...</td>\n",
       "    </tr>\n",
       "    <tr>\n",
       "      <th>73793</th>\n",
       "      <td>3.891820</td>\n",
       "      <td>0.000000</td>\n",
       "      <td>0.000000</td>\n",
       "      <td>3.583519</td>\n",
       "      <td>5</td>\n",
       "      <td>1</td>\n",
       "      <td>1</td>\n",
       "      <td>1</td>\n",
       "      <td>1</td>\n",
       "      <td>2</td>\n",
       "      <td>1</td>\n",
       "      <td>0</td>\n",
       "      <td>1</td>\n",
       "      <td>0</td>\n",
       "    </tr>\n",
       "    <tr>\n",
       "      <th>73794</th>\n",
       "      <td>3.828641</td>\n",
       "      <td>0.000000</td>\n",
       "      <td>1.386294</td>\n",
       "      <td>2.890372</td>\n",
       "      <td>2</td>\n",
       "      <td>1</td>\n",
       "      <td>1</td>\n",
       "      <td>1</td>\n",
       "      <td>1</td>\n",
       "      <td>1</td>\n",
       "      <td>1</td>\n",
       "      <td>1</td>\n",
       "      <td>0</td>\n",
       "      <td>0</td>\n",
       "    </tr>\n",
       "    <tr>\n",
       "      <th>73795</th>\n",
       "      <td>3.737670</td>\n",
       "      <td>0.000000</td>\n",
       "      <td>0.693147</td>\n",
       "      <td>4.262680</td>\n",
       "      <td>5</td>\n",
       "      <td>2</td>\n",
       "      <td>2</td>\n",
       "      <td>2</td>\n",
       "      <td>1</td>\n",
       "      <td>1</td>\n",
       "      <td>1</td>\n",
       "      <td>0</td>\n",
       "      <td>1</td>\n",
       "      <td>0</td>\n",
       "    </tr>\n",
       "    <tr>\n",
       "      <th>73796</th>\n",
       "      <td>3.465736</td>\n",
       "      <td>0.000000</td>\n",
       "      <td>1.609438</td>\n",
       "      <td>3.828641</td>\n",
       "      <td>5</td>\n",
       "      <td>2</td>\n",
       "      <td>1</td>\n",
       "      <td>1</td>\n",
       "      <td>1</td>\n",
       "      <td>1</td>\n",
       "      <td>1</td>\n",
       "      <td>0</td>\n",
       "      <td>1</td>\n",
       "      <td>0</td>\n",
       "    </tr>\n",
       "    <tr>\n",
       "      <th>73797</th>\n",
       "      <td>3.401197</td>\n",
       "      <td>0.000000</td>\n",
       "      <td>1.386294</td>\n",
       "      <td>2.639057</td>\n",
       "      <td>5</td>\n",
       "      <td>1</td>\n",
       "      <td>1</td>\n",
       "      <td>1</td>\n",
       "      <td>2</td>\n",
       "      <td>1</td>\n",
       "      <td>2</td>\n",
       "      <td>1</td>\n",
       "      <td>0</td>\n",
       "      <td>0</td>\n",
       "    </tr>\n",
       "  </tbody>\n",
       "</table>\n",
       "<p>66777 rows × 14 columns</p>\n",
       "</div>"
      ],
      "text/plain": [
       "            age  decline_app_cnt  bki_request_cnt    income  education  sex  \\\n",
       "0      4.143135         0.000000         0.693147  2.944439          5    2   \n",
       "1      4.094345         0.000000         1.386294  2.995732          5    1   \n",
       "2      3.258097         1.098612         0.693147  3.433987          5    2   \n",
       "3      3.988984         0.000000         1.098612  2.397895          5    1   \n",
       "4      3.891820         0.000000         0.693147  3.433987          2    2   \n",
       "...         ...              ...              ...       ...        ...  ...   \n",
       "73793  3.891820         0.000000         0.000000  3.583519          5    1   \n",
       "73794  3.828641         0.000000         1.386294  2.890372          2    1   \n",
       "73795  3.737670         0.000000         0.693147  4.262680          5    2   \n",
       "73796  3.465736         0.000000         1.609438  3.828641          5    2   \n",
       "73797  3.401197         0.000000         1.386294  2.639057          5    1   \n",
       "\n",
       "       car  car_type  good_work  foreign_passport  default  home_address_1  \\\n",
       "0        2         2          1                 1        1               1   \n",
       "1        1         1          1                 1        1               0   \n",
       "2        2         1          1                 2        1               1   \n",
       "3        1         1          1                 1        1               0   \n",
       "4        1         1          2                 2        1               0   \n",
       "...    ...       ...        ...               ...      ...             ...   \n",
       "73793    1         1          1                 2        1               0   \n",
       "73794    1         1          1                 1        1               1   \n",
       "73795    2         2          1                 1        1               0   \n",
       "73796    1         1          1                 1        1               0   \n",
       "73797    1         1          2                 1        2               1   \n",
       "\n",
       "       home_address_2  home_address_3  \n",
       "0                   0               0  \n",
       "1                   1               0  \n",
       "2                   0               0  \n",
       "3                   1               0  \n",
       "4                   1               0  \n",
       "...               ...             ...  \n",
       "73793               1               0  \n",
       "73794               0               0  \n",
       "73795               1               0  \n",
       "73796               1               0  \n",
       "73797               0               0  \n",
       "\n",
       "[66777 rows x 14 columns]"
      ]
     },
     "execution_count": 24,
     "metadata": {},
     "output_type": "execute_result"
    }
   ],
   "source": [
    "# Удаляем признак work_address из датасета\n",
    "new_train_baza = new_train_baza.drop('work_address', axis=1)\n",
    "\n",
    "# Признак столбца home_address преобразуем с использованием метода get_dummies\n",
    "new_train_baza = pd.get_dummies(new_train_baza, columns=[ 'home_address',], dummy_na=False)\n",
    "new_train_baza"
   ]
  },
  {
   "cell_type": "code",
   "execution_count": 25,
   "metadata": {},
   "outputs": [
    {
     "data": {
      "text/plain": [
       "foreign_passport   -0.077664\n",
       "car_type           -0.065905\n",
       "income             -0.064430\n",
       "car                -0.055360\n",
       "good_work          -0.053457\n",
       "age                -0.026555\n",
       "sex                 0.014102\n",
       "bki_request_cnt     0.071318\n",
       "education           0.081491\n",
       "work_address        0.087134\n",
       "home_address        0.089155\n",
       "decline_app_cnt     0.116789\n",
       "default             1.000000\n",
       "Name: default, dtype: float64"
      ]
     },
     "execution_count": 25,
     "metadata": {},
     "output_type": "execute_result"
    }
   ],
   "source": [
    "# Выведем коэффициенты корреляции признаков с признаком default\n",
    "correlations_data = corr['default'].sort_values()\n",
    "correlations_data"
   ]
  },
  {
   "cell_type": "markdown",
   "metadata": {},
   "source": [
    "Ни один из признаков с целевым признаком default не связан."
   ]
  },
  {
   "cell_type": "markdown",
   "metadata": {},
   "source": [
    "### Проведём анализ признаков sex и education\n",
    "\n",
    "#### Пол(sex)\n",
    "Проверим гипотезу, что половые различия кредитозаёмщика не влияют на модель расчёта. Если статистические данные будут схожи, т.е. не имеют существенных различий, то признак *sex* из датасета можно удалить"
   ]
  },
  {
   "cell_type": "code",
   "execution_count": 26,
   "metadata": {},
   "outputs": [
    {
     "name": "stdout",
     "output_type": "stream",
     "text": [
      "Рекомендовано к выдаче кредита  57681 клиентам\n",
      "Из них мужчин 25588\n",
      "Из них женщин 32093\n",
      "Не рекомендовано к выдаче кредита  9096 клиентов\n",
      "Из них мужчин 4221\n",
      "Из них женщин 4875\n",
      "Процент рекомендованных к выдаче кредитов мужчинам = 44.36\n",
      "Процент рекомендованных к выдаче кредитов женщинам = 55.64\n",
      "Процент не рекомендованных к выдаче кредитов мужчинам = 46.41\n",
      "Процент не рекомендованных к выдаче кредитов женщинам = 53.59\n",
      "==============\n",
      "Количество женщин обратившихся за кредитом = 36968 , в процентах  55.36\n",
      "Количество мужчин обратившихся за кредитом = 29809 , в процентах  44.64\n"
     ]
    }
   ],
   "source": [
    "true_0 = new_train_baza[new_train_baza.default == 1]\n",
    "print('Рекомендовано к выдаче кредита ',len(true_0),'клиентам')\n",
    "male_true = len(true_0.loc[true_0.sex == 2])\n",
    "female_true = len(true_0.loc[true_0.sex == 1])\n",
    "print('Из них мужчин',male_true)\n",
    "print('Из них женщин',female_true)\n",
    "false_1 = new_train_baza[new_train_baza.default == 2]\n",
    "print('Не рекомендовано к выдаче кредита ',len(false_1),'клиентов')\n",
    "male_false = len(false_1.loc[false_1.sex == 2])\n",
    "female_false = len(false_1.loc[false_1.sex == 1])\n",
    "print('Из них мужчин',male_false)\n",
    "print('Из них женщин',female_false)\n",
    "print('Процент рекомендованных к выдаче кредитов мужчинам =', round(100*male_true/len(true_0),2))\n",
    "print('Процент рекомендованных к выдаче кредитов женщинам =', round(100*female_true/len(true_0),2))\n",
    "print('Процент не рекомендованных к выдаче кредитов мужчинам =', round(100*male_false/len(false_1),2))\n",
    "print('Процент не рекомендованных к выдаче кредитов женщинам =', round(100*female_false/len(false_1),2))\n",
    "print('==============')\n",
    "print('Количество женщин обратившихся за кредитом =', female_true+female_false, ', в процентах ',round(100*(female_true+female_false)/(len(true_0)+len(false_1)),2))\n",
    "print('Количество мужчин обратившихся за кредитом =', male_true+male_false, ', в процентах ',round(100*(male_true+male_false)/(len(true_0)+len(false_1)),2))"
   ]
  },
  {
   "cell_type": "markdown",
   "metadata": {},
   "source": [
    "Количество женщин обращаются за предоставлением кредита чаще, чем мужчин (чуть больше 10%).\n",
    "Отказывают женщинам также чаще, чем и мужчинам, так же чуть больше 10%, что видимо не связано с половыми различиями, а связано напрямую с частотой обращений за кредитом как фактом. Это подтверждается тем, что утверждают кредит женщинам также чаще чем мужчинам на 10%. В связи с этим, признак *sex* так же можно исключить из датасета как незначимый.\n",
    "<p><b>Примечание:</b></p>\n",
    "\n",
    "*Вполне возможно женская активность в получении кредита связана с тем, что в основном женщины имеют стабильную работу, как следствие - стабильный доход.*\n",
    "\n",
    "Проверим как половые различия кредитозаёмщика влияют на модель расчёта при заполнении признака *education*\n",
    "Таблица замен\n",
    "<p>SCH  = 5 </p>\n",
    "<p>GRD  = 2 </p>\n",
    "<p>UGR  = 6 </p>\n",
    "<p>PGR  = 4 </p>\n",
    "<p>ACD  = 1 </p>\n"
   ]
  },
  {
   "cell_type": "code",
   "execution_count": 27,
   "metadata": {
    "scrolled": true
   },
   "outputs": [
    {
     "data": {
      "text/plain": [
       "income             -0.258217\n",
       "car_type           -0.145139\n",
       "good_work          -0.141735\n",
       "foreign_passport   -0.141624\n",
       "car                -0.099346\n",
       "bki_request_cnt    -0.032569\n",
       "sex                -0.015596\n",
       "home_address        0.009433\n",
       "work_address        0.012587\n",
       "age                 0.015174\n",
       "decline_app_cnt     0.062973\n",
       "default             0.081491\n",
       "education           1.000000\n",
       "Name: education, dtype: float64"
      ]
     },
     "execution_count": 27,
     "metadata": {},
     "output_type": "execute_result"
    }
   ],
   "source": [
    "# Расчитаем коэффициент корреляции признаков от признака education\n",
    "correlations_data = corr['education'].sort_values()\n",
    "correlations_data"
   ]
  },
  {
   "cell_type": "markdown",
   "metadata": {},
   "source": [
    "Сильной взаимосвязи признаков с временным целевым признаком education нет."
   ]
  },
  {
   "cell_type": "code",
   "execution_count": 28,
   "metadata": {},
   "outputs": [
    {
     "name": "stdout",
     "output_type": "stream",
     "text": [
      "Количество мужчин и женщин имеющих образование SCH - школа       ( 14572  --  19221 ) -> класс = 5\n",
      "Количество мужчин и женщин имеющих образование GRD - бакалавриат ( 10045  --  11876 ) -> класс = 2\n",
      "Количество мужчин и женщин имеющих образование UGR - магистр     ( 4315  --  4996 ) -> класс = 6\n",
      "Количество мужчин и женщин имеющих образование PGR - аспирант    ( 624  --  627 ) -> класс = 4\n",
      "Количество мужчин и женщин имеющих образование ACD - профессор   ( 115  --  79 ) -> класс = 1\n"
     ]
    }
   ],
   "source": [
    "sch_male = len([x for x in list(new_train_baza[new_train_baza.education == 5]['sex']) if x ==2]) # Количество мужчин с уровнем образования SCH\n",
    "sch_female = len([x for x in list(new_train_baza[new_train_baza.education == 5]['sex']) if x ==1])  # Количество женщин с уровнем образования SCH\n",
    "print('Количество мужчин и женщин имеющих образование SCH - школа       (',sch_male,' -- ',sch_female, ') -> класс = 5')\n",
    "grd_male = len([x for x in list(new_train_baza[new_train_baza.education == 2]['sex']) if x ==2]) # Количество мужчин с уровнем образования GRD\n",
    "grd_female = len([x for x in list(new_train_baza[new_train_baza.education == 2]['sex']) if x ==1])  # Количество женщин с уровнем образования GRD\n",
    "print('Количество мужчин и женщин имеющих образование GRD - бакалавриат (',grd_male,' -- ',grd_female, ') -> класс = 2')\n",
    "urg_male = len([x for x in list(new_train_baza[new_train_baza.education == 6]['sex']) if x ==2])# Количество мужчин с уровнем образования UGR\n",
    "urg_female = len([x for x in list(new_train_baza[new_train_baza.education == 6]['sex']) if x ==1]) # Количество женщин с уровнем образования UGR\n",
    "print('Количество мужчин и женщин имеющих образование UGR - магистр     (',urg_male,' -- ',urg_female, ') -> класс = 6')\n",
    "pgr_male = len([x for x in list(new_train_baza[new_train_baza.education == 4]['sex']) if x ==2]) # Количество мужчин с уровнем образования PGR \n",
    "pgr_female = len([x for x in list(new_train_baza[new_train_baza.education == 4]['sex']) if x ==1]) # Количество женщин с уровнем образования PGR \n",
    "print('Количество мужчин и женщин имеющих образование PGR - аспирант    (',pgr_male,' -- ',pgr_female, ') -> класс = 4')\n",
    "acd_male = len([x for x in list(new_train_baza[new_train_baza.education == 1]['sex']) if x ==2])# Количество мужчин с уровнем образования ACD \n",
    "acd_female = len([x for x in list(new_train_baza[new_train_baza.education == 1]['sex']) if x ==1]) # Количество женщин с уровнем образования ACD \n",
    "print('Количество мужчин и женщин имеющих образование ACD - профессор   (',acd_male,' -- ',acd_female, ') -> класс = 1')"
   ]
  },
  {
   "cell_type": "markdown",
   "metadata": {},
   "source": [
    "Наблюдается явное отсутствие нормального распределение уровня образования клиентов, и несильное различие по уровню образования между мужчинами и женщинами одного уровня. Что ещё раз подтверждает решение удалить признак *sex* из расчётов в модели. Признак *sex* также не понадобится при расчёте уровня образования для пустых значений параметра *education*."
   ]
  },
  {
   "cell_type": "code",
   "execution_count": 29,
   "metadata": {},
   "outputs": [],
   "source": [
    "# Удаляем признак sex из датасета\n",
    "new_train_baza = new_train_baza.drop('sex', axis=1)"
   ]
  },
  {
   "cell_type": "markdown",
   "metadata": {},
   "source": [
    "#### Уровень образования (education)\n",
    "\n",
    "Наблюдается существенная разбалансировка классов: 1, 2, 4, 5, 6.\n",
    "Для решения задачи, заполнения пустых значений признака *education* проведём сравнительный анализ моделей классификации:\n",
    "- классификатор дерева решений Decision Tree Classifier;\n",
    "- метод k-ближайших соседей\n",
    "- нейронной сети конструктором MLPClassifier()"
   ]
  },
  {
   "cell_type": "code",
   "execution_count": 30,
   "metadata": {},
   "outputs": [],
   "source": [
    "# Создаём рабочую копию df датасета new_train_baza\n",
    "df = new_train_baza.copy()\n",
    "df = pd.DataFrame(df.reset_index(drop=True))"
   ]
  },
  {
   "cell_type": "code",
   "execution_count": 31,
   "metadata": {},
   "outputs": [],
   "source": [
    "# Разделяем копию на два датасет. Тренировочный и тестовый. В тернировачный войдут все строки, \n",
    "# за исключением строк, значения ячейк которых параметра education  равно 3\n",
    "df_train = df[df['education'] != 3]\n",
    "y_trin = df_train['education']\n",
    "df_train_N = df_train.drop('education', axis=1)\n",
    "df_train_N = pd.DataFrame(df_train_N.reset_index(drop=True))\n",
    "df_test = df[df['education'] == 3]\n",
    "df_test = df_test.drop('education', axis=1)\n",
    "df_test = pd.DataFrame(df_test.reset_index(drop=True))"
   ]
  },
  {
   "cell_type": "code",
   "execution_count": 32,
   "metadata": {},
   "outputs": [],
   "source": [
    "# Проведём разбиение df_train на обучающий X_train и Y_train, тестовый X_test и Y_test. Разобьём с перемешиванием, доля тестовой\n",
    "# выборки определим как 33%\n",
    "X_train, X_test, Y_train, Y_test = train_test_split(df_train_N, y_trin,  test_size=TEST_SIZE, random_state=RANDOM_SEED, shuffle=True)"
   ]
  },
  {
   "cell_type": "markdown",
   "metadata": {},
   "source": [
    "Для расчёта значений уровня образования тестируем три модели классификации из библиотеки Scikit-Learn:\n",
    "1. Метод k-ближайших соседей sklearn.neighbors (гиперпараметры оптимизируем ручным способом)\n",
    "2. Метода классификатор дерева решений (Decision Tree Classifier)(гиперпараметры оставим по умолчанию)\n",
    "3. С помощью нейронной сети конструктора MLPClassifier()\n",
    "\n",
    "<p>Для оценки точности классификаторов импортируем метрики:</p>\n",
    "- classification_report\n",
    "- confusion_matrix\n",
    "- accuracy_score\n",
    "#### Предварительный расчёт с целью определения лучшей модели"
   ]
  },
  {
   "cell_type": "code",
   "execution_count": 33,
   "metadata": {},
   "outputs": [],
   "source": [
    "from sklearn.metrics import classification_report  \n",
    "from sklearn.metrics import confusion_matrix  \n",
    "from sklearn.metrics import accuracy_score  \n",
    "from sklearn.neighbors import KNeighborsClassifier\n",
    "from sklearn.neural_network import MLPClassifier"
   ]
  },
  {
   "cell_type": "code",
   "execution_count": 34,
   "metadata": {},
   "outputs": [],
   "source": [
    "# Нормализуем данные, путём удаления среднего и масштабирования до единичной дисперсии\n",
    "scaler = StandardScaler()\n",
    "X_train = scaler.fit_transform(X_train)\n",
    "X_test = scaler.fit_transform(X_test)"
   ]
  },
  {
   "cell_type": "markdown",
   "metadata": {},
   "source": [
    "#### Проведём обучение моделей и осуществим оценку их точности"
   ]
  },
  {
   "cell_type": "code",
   "execution_count": 35,
   "metadata": {
    "scrolled": true
   },
   "outputs": [
    {
     "name": "stdout",
     "output_type": "stream",
     "text": [
      "Оценка точности k-ближайших соседей\n",
      "0.49295421493405545 \n",
      "\n",
      "Оценка точности классификатора дерева решений\n",
      "0.4255553883957675 \n",
      "\n",
      "Оценка точности MLP\n",
      "0.5761496414422547 \n",
      "\n",
      "Матрица неточности метода k-ближайших соседей\n",
      "              precision    recall  f1-score   support\n",
      "\n",
      "           1       0.00      0.00      0.00        51\n",
      "           2       0.51      0.41      0.46      8016\n",
      "           4       0.00      0.02      0.00        51\n",
      "           5       0.62      0.59      0.61     10780\n",
      "           6       0.06      0.17      0.09      1043\n",
      "\n",
      "    accuracy                           0.49     19941\n",
      "   macro avg       0.24      0.24      0.23     19941\n",
      "weighted avg       0.54      0.49      0.51     19941\n",
      " \n",
      "\n",
      "Матрица неточности метода классификатора дерева решений\n",
      "[[   1   33    3   27   14]\n",
      " [  24 2646  195 3213 1006]\n",
      " [   3  233   22  164   50]\n",
      " [  21 2806  144 5453 1331]\n",
      " [   7  839   39 1303  364]] \n",
      "\n",
      "Матрица неточности метода нейронной сети\n",
      "[[   0    0    0    0    0]\n",
      " [  44 3385  281 2078  918]\n",
      " [   0    0    0    0    0]\n",
      " [  12 3136  121 8010 1753]\n",
      " [   0   36    1   72   94]] \n",
      "\n"
     ]
    }
   ],
   "source": [
    "KNN_model = KNeighborsClassifier(n_neighbors=4) # Пераметр n_neighbors=4 подобран вручную путём перебора в диапазоне от 1 до 10\n",
    "KNN_model = KNN_model.fit(X_train, Y_train)\n",
    "\n",
    "myModel_tree = DecisionTreeClassifier(random_state=RANDOM_SEED)\n",
    "myModel_tree = myModel_tree.fit(X_train, Y_train)\n",
    "\n",
    "myModel_MLP = MLPClassifier(random_state=RANDOM_SEED, max_iter=200)\n",
    "myModel_MLP = myModel_MLP.fit(X_train, Y_train)\n",
    "\n",
    "KNN_prediction = KNN_model.predict(X_test)\n",
    "Tree_prediction = myModel_tree.predict(X_test)\n",
    "MLP_prediction = myModel_MLP.predict(X_test)\n",
    "\n",
    "# Оценка точности — простейший вариант оценки работы классификатора\n",
    "print('Оценка точности k-ближайших соседей')\n",
    "print(accuracy_score(KNN_prediction, Y_test),'\\n')\n",
    "print('Оценка точности классификатора дерева решений')\n",
    "print(accuracy_score(Tree_prediction, Y_test),'\\n')\n",
    "print('Оценка точности MLP')\n",
    "print(accuracy_score(MLP_prediction, Y_test),'\\n')\n",
    "\n",
    "\n",
    "# Но матрица неточности и отчёт о классификации дадут больше информации о производительности\n",
    "print('Матрица неточности метода k-ближайших соседей')\n",
    "print(classification_report(KNN_prediction, Y_test),'\\n')\n",
    "print('Матрица неточности метода классификатора дерева решений')\n",
    "print(confusion_matrix(Tree_prediction, Y_test),'\\n') \n",
    "print('Матрица неточности метода нейронной сети')\n",
    "print(confusion_matrix(MLP_prediction, Y_test),'\\n') "
   ]
  },
  {
   "cell_type": "markdown",
   "metadata": {},
   "source": [
    "Получим расчётные значения для пустых значений параметра education по трём моделям"
   ]
  },
  {
   "cell_type": "code",
   "execution_count": 36,
   "metadata": {},
   "outputs": [
    {
     "name": "stdout",
     "output_type": "stream",
     "text": [
      "Сводные данные метода классификатора дерева решений\n",
      "1    307\n",
      "dtype: int64 \n",
      "\n",
      "Сводные данные метода k-ближайших соседей\n",
      "2    286\n",
      "5     14\n",
      "1      7\n",
      "dtype: int64 \n",
      "\n",
      "Сводные данные метода MLP\n",
      "2    307\n",
      "dtype: int64 \n",
      "\n"
     ]
    }
   ],
   "source": [
    "y_education_tree = myModel_tree.predict(df_test)\n",
    "print('Сводные данные метода классификатора дерева решений')\n",
    "print(pd.Series(y_education_tree).value_counts(),'\\n')\n",
    "\n",
    "y_education_knn = KNN_model.predict(df_test)\n",
    "print('Сводные данные метода k-ближайших соседей')\n",
    "print(pd.Series(y_education_knn).value_counts(),'\\n')\n",
    "\n",
    "y_education_MLP = myModel_MLP.predict(df_test)\n",
    "print('Сводные данные метода MLP')\n",
    "print(pd.Series(y_education_MLP).value_counts(),'\\n')"
   ]
  },
  {
   "cell_type": "markdown",
   "metadata": {},
   "source": [
    "Для заполнения пустых значений параметра education выберем модель нейронной сети, так как оценка точности этого метода выше чем у других моделей.\n",
    "#### Окончательный расчёт \n",
    "Для осуществления окончательного расчёта проведём обучение модели на 100% выборке исходного датасета df_train_N"
   ]
  },
  {
   "cell_type": "code",
   "execution_count": 37,
   "metadata": {},
   "outputs": [
    {
     "name": "stdout",
     "output_type": "stream",
     "text": [
      "Сводные данные метода MLPClassifier\n",
      "2    307\n",
      "dtype: int64 \n",
      "\n"
     ]
    }
   ],
   "source": [
    "# Фиксация обучающих данных\n",
    "X_train = df_train_N.copy()\n",
    "Y_train = y_trin.copy()\n",
    "\n",
    "# Нормализуем данные, путём удаления среднего и масштабирования до единичной дисперсии\n",
    "X_train = scaler.fit_transform(X_train)\n",
    "\n",
    "# Фиксация модели и обучение\n",
    "myModel_MLP = MLPClassifier(random_state=RANDOM_SEED, max_iter=200)\n",
    "myModel_MLP = myModel_MLP.fit(X_train, Y_train)\n",
    "\n",
    "# Получение расчётных параметров на основании обученной модели\n",
    "y_education_finish = myModel_MLP.predict(df_test)\n",
    "\n",
    "print('Сводные данные метода MLPClassifier')\n",
    "print(pd.Series(y_education_finish).value_counts(),'\\n')"
   ]
  },
  {
   "cell_type": "markdown",
   "metadata": {},
   "source": [
    "Моделью, из 307 пустых вариантов уровней образования предсказано:\n",
    "\n",
    "<p>2 = GRD - 307 клиентов</p>"
   ]
  },
  {
   "cell_type": "code",
   "execution_count": 38,
   "metadata": {},
   "outputs": [],
   "source": [
    "# Заполнение строк расчётными значениями\n",
    "for i in range(0,len(y_education_finish)):\n",
    "    df_test.at[i,'education'] = y_education_finish[i]"
   ]
  },
  {
   "cell_type": "code",
   "execution_count": 39,
   "metadata": {},
   "outputs": [
    {
     "name": "stdout",
     "output_type": "stream",
     "text": [
      "<class 'pandas.core.frame.DataFrame'>\n",
      "RangeIndex: 66777 entries, 0 to 66776\n",
      "Data columns (total 13 columns):\n",
      " #   Column            Non-Null Count  Dtype  \n",
      "---  ------            --------------  -----  \n",
      " 0   age               66777 non-null  float64\n",
      " 1   decline_app_cnt   66777 non-null  float64\n",
      " 2   bki_request_cnt   66777 non-null  float64\n",
      " 3   income            66777 non-null  float64\n",
      " 4   car               66777 non-null  int32  \n",
      " 5   car_type          66777 non-null  int32  \n",
      " 6   good_work         66777 non-null  int64  \n",
      " 7   foreign_passport  66777 non-null  int32  \n",
      " 8   default           66777 non-null  int64  \n",
      " 9   home_address_1    66777 non-null  uint8  \n",
      " 10  home_address_2    66777 non-null  uint8  \n",
      " 11  home_address_3    66777 non-null  uint8  \n",
      " 12  education         66777 non-null  object \n",
      "dtypes: float64(4), int32(3), int64(2), object(1), uint8(3)\n",
      "memory usage: 4.5+ MB\n"
     ]
    }
   ],
   "source": [
    "# Объеденим датасеты в единый\n",
    "df = pd.concat([df_test, df_train])\n",
    "df['education'] = df['education'].astype('str')\n",
    "df = pd.DataFrame(df.reset_index(drop=True))\n",
    "df.info()"
   ]
  },
  {
   "cell_type": "markdown",
   "metadata": {},
   "source": [
    "В результате получаем датасет с заполненным значениями по всем признакам"
   ]
  },
  {
   "cell_type": "code",
   "execution_count": 40,
   "metadata": {},
   "outputs": [
    {
     "name": "stdout",
     "output_type": "stream",
     "text": [
      "car => {1, 2}\n",
      "car_type => {1, 2}\n",
      "good_work => {1, 2}\n",
      "foreign_passport => {1, 2}\n",
      "default => {1, 2}\n",
      "home_address_1 => {0, 1}\n",
      "home_address_2 => {0, 1}\n",
      "home_address_3 => {0, 1}\n",
      "education => {'2.0', '5.0', '1.0', '6.0', '4.0'}\n"
     ]
    }
   ],
   "source": [
    "# Повторим процедуру просмотра уникальных значений по признакам имеющим не более 10 варантов уникальных значений\n",
    "object_col =[]\n",
    "for i in list(df):\n",
    "    if len(set(df[i])) <10:\n",
    "        object_col.append(i)\n",
    "        print(i,'=>',set(df[i]))"
   ]
  },
  {
   "cell_type": "markdown",
   "metadata": {},
   "source": [
    "Для проведения процедуры get_dummies, для читаемости наименования столбцов уровня образования проведём обратную замену в столбце education согласно таблицы:\n",
    "<p>SCH  = 5 </p>\n",
    "<p>GRD  = 2 </p>\n",
    "<p>UGR  = 6 </p>\n",
    "<p>PGR  = 4 </p>\n",
    "<p>ACD  = 1 </p>"
   ]
  },
  {
   "cell_type": "code",
   "execution_count": 41,
   "metadata": {},
   "outputs": [],
   "source": [
    "for i in range(0,len(df)):\n",
    "    if df['education'][i] == '1.0':\n",
    "        df.at[i,'education'] = 'ACD'\n",
    "    if df['education'][i] == '2.0':\n",
    "        df.at[i,'education'] = 'GRD'\n",
    "    if df['education'][i] == '4.0':\n",
    "        df.at[i,'education'] = 'PGR'\n",
    "    if df['education'][i] == '5.0':\n",
    "        df.at[i,'education'] = 'SCH'\n",
    "    if df['education'][i] == '6.0':\n",
    "        df.at[i,'education'] = 'UGR'"
   ]
  },
  {
   "cell_type": "markdown",
   "metadata": {},
   "source": [
    "#### Визуализируем соотношение уровня образования с дефорлтом"
   ]
  },
  {
   "cell_type": "code",
   "execution_count": 42,
   "metadata": {},
   "outputs": [
    {
     "data": {
      "text/plain": [
       "Text(0.5, 1.0, 'Дефолты, в зависимости от уровня образования')"
      ]
     },
     "execution_count": 42,
     "metadata": {},
     "output_type": "execute_result"
    },
    {
     "data": {
      "image/png": "[encoded data removed]",
      "text/plain": [
       "<Figure size 432x432 with 1 Axes>"
      ]
     },
     "metadata": {
      "needs_background": "light"
     },
     "output_type": "display_data"
    }
   ],
   "source": [
    "sns.catplot(x='education', y='default',  data=df, kind=\"bar\", palette=\"muted\", height = 6)\n",
    "plt.ylabel(u'Доля дефолта')\n",
    "plt.xlabel(u'Тип образования')\n",
    "plt.title(u'Дефолты, в зависимости от уровня образования')"
   ]
  },
  {
   "cell_type": "markdown",
   "metadata": {},
   "source": [
    "Все уровни образования не имеют существенных различий, поэтому ни одну из групп исключить нельзя из расчёта.\n",
    "##### В абсолютных значениях"
   ]
  },
  {
   "cell_type": "code",
   "execution_count": 43,
   "metadata": {},
   "outputs": [
    {
     "data": {
      "text/html": [
       "<div>\n",
       "<style scoped>\n",
       "    .dataframe tbody tr th:only-of-type {\n",
       "        vertical-align: middle;\n",
       "    }\n",
       "\n",
       "    .dataframe tbody tr th {\n",
       "        vertical-align: top;\n",
       "    }\n",
       "\n",
       "    .dataframe thead th {\n",
       "        text-align: right;\n",
       "    }\n",
       "</style>\n",
       "<table border=\"1\" class=\"dataframe\">\n",
       "  <thead>\n",
       "    <tr style=\"text-align: right;\">\n",
       "      <th></th>\n",
       "      <th>Без дефолта</th>\n",
       "      <th>С дефолтом</th>\n",
       "    </tr>\n",
       "  </thead>\n",
       "  <tbody>\n",
       "    <tr>\n",
       "      <th>SCH</th>\n",
       "      <td>28183</td>\n",
       "      <td>5610</td>\n",
       "    </tr>\n",
       "    <tr>\n",
       "      <th>GRD</th>\n",
       "      <td>20108</td>\n",
       "      <td>2120</td>\n",
       "    </tr>\n",
       "    <tr>\n",
       "      <th>UGR</th>\n",
       "      <td>8034</td>\n",
       "      <td>1277</td>\n",
       "    </tr>\n",
       "    <tr>\n",
       "      <th>PGR</th>\n",
       "      <td>1170</td>\n",
       "      <td>81</td>\n",
       "    </tr>\n",
       "    <tr>\n",
       "      <th>ACD</th>\n",
       "      <td>186</td>\n",
       "      <td>8</td>\n",
       "    </tr>\n",
       "  </tbody>\n",
       "</table>\n",
       "</div>"
      ],
      "text/plain": [
       "     Без дефолта  С дефолтом\n",
       "SCH        28183        5610\n",
       "GRD        20108        2120\n",
       "UGR         8034        1277\n",
       "PGR         1170          81\n",
       "ACD          186           8"
      ]
     },
     "execution_count": 43,
     "metadata": {},
     "output_type": "execute_result"
    }
   ],
   "source": [
    "tableEducation = pd.DataFrame({u'Без дефолта': df[df['default'] == 1].education.value_counts(), u'С дефолтом': df[df['default'] == 2].education.value_counts()})\n",
    "tableEducation"
   ]
  },
  {
   "cell_type": "code",
   "execution_count": 44,
   "metadata": {},
   "outputs": [
    {
     "name": "stdout",
     "output_type": "stream",
     "text": [
      "<class 'pandas.core.frame.DataFrame'>\n",
      "RangeIndex: 66777 entries, 0 to 66776\n",
      "Data columns (total 17 columns):\n",
      " #   Column            Non-Null Count  Dtype  \n",
      "---  ------            --------------  -----  \n",
      " 0   age               66777 non-null  float64\n",
      " 1   decline_app_cnt   66777 non-null  float64\n",
      " 2   bki_request_cnt   66777 non-null  float64\n",
      " 3   income            66777 non-null  float64\n",
      " 4   car               66777 non-null  int32  \n",
      " 5   car_type          66777 non-null  int32  \n",
      " 6   good_work         66777 non-null  int64  \n",
      " 7   foreign_passport  66777 non-null  int32  \n",
      " 8   default           66777 non-null  int64  \n",
      " 9   home_address_1    66777 non-null  uint8  \n",
      " 10  home_address_2    66777 non-null  uint8  \n",
      " 11  home_address_3    66777 non-null  uint8  \n",
      " 12  education_ACD     66777 non-null  uint8  \n",
      " 13  education_GRD     66777 non-null  uint8  \n",
      " 14  education_PGR     66777 non-null  uint8  \n",
      " 15  education_SCH     66777 non-null  uint8  \n",
      " 16  education_UGR     66777 non-null  uint8  \n",
      "dtypes: float64(4), int32(3), int64(2), uint8(8)\n",
      "memory usage: 4.3 MB\n"
     ]
    }
   ],
   "source": [
    "# Признак столбца education преобразуем с использованием метода get_dummies\n",
    "df_new = pd.get_dummies(df, columns=[ 'education',], dummy_na=False)\n",
    "df_new.info()"
   ]
  },
  {
   "cell_type": "markdown",
   "metadata": {},
   "source": [
    "### Визуализируем распределение образовательного уровня клиентов"
   ]
  },
  {
   "cell_type": "code",
   "execution_count": 45,
   "metadata": {},
   "outputs": [
    {
     "name": "stdout",
     "output_type": "stream",
     "text": [
      "{'SCH': 33793, 'GRD': 22228, 'UGR': 9311, 'PGR': 1251, 'ACD': 194}\n"
     ]
    },
    {
     "data": {
      "image/png": "[encoded data removed]",
      "text/plain": [
       "<Figure size 720x432 with 1 Axes>"
      ]
     },
     "metadata": {
      "needs_background": "light"
     },
     "output_type": "display_data"
    }
   ],
   "source": [
    "plt.rcParams['figure.figsize'] = (10,6)\n",
    "# График - количество ресторанов в городах\n",
    "df['education'].value_counts().plot(kind='barh')\n",
    "\n",
    "# Получаем полный список уровней образования представленных в признаке education\n",
    "education = dict(df['education'].value_counts())\n",
    "education_pop = education.copy()\n",
    "print(education)"
   ]
  },
  {
   "cell_type": "markdown",
   "metadata": {},
   "source": [
    "<b>Вывод:</b> гипотеза о независимости образования и наличия/отсутствия просрочек в оплате кредита отвергается. Поэтому признак education является важным при рассмотрении заявки на кредит."
   ]
  },
  {
   "cell_type": "markdown",
   "metadata": {},
   "source": [
    "#### Целевой признак дефолта default"
   ]
  },
  {
   "cell_type": "code",
   "execution_count": 46,
   "metadata": {},
   "outputs": [
    {
     "name": "stdout",
     "output_type": "stream",
     "text": [
      "Количество дефолтных клиентов банка = 9096\n",
      "Количество не дефолтных клиентов банка = 57681\n",
      "Соотношение классов = 0.16\n"
     ]
    },
    {
     "data": {
      "image/png": "[encoded data removed]",
      "text/plain": [
       "<Figure size 720x432 with 1 Axes>"
      ]
     },
     "metadata": {
      "needs_background": "light"
     },
     "output_type": "display_data"
    }
   ],
   "source": [
    "# Количество дефолтных клиентов банка меньше,чем недефолтных\n",
    "sns.countplot(x='default', data=df_new)\n",
    "k_def = len(df_new[df_new['default'] ==2])\n",
    "k_nodef = len(df_new[df_new['default'] ==1])\n",
    "print('Количество дефолтных клиентов банка =',k_def)\n",
    "print('Количество не дефолтных клиентов банка =',k_nodef)\n",
    "# Соотношение классов дефолтных к недефолтным\n",
    "print('Соотношение классов =',round(k_def/k_nodef,2))"
   ]
  },
  {
   "cell_type": "markdown",
   "metadata": {},
   "source": [
    "В связи с тем, что соотношение классов 0.16, чуть выше рекомендуемого соотношения 0.1, то целесообразно рассмотреть насколько разбалансированны данные по целевому признаку <b>default</b>"
   ]
  },
  {
   "cell_type": "code",
   "execution_count": 47,
   "metadata": {},
   "outputs": [
    {
     "name": "stdout",
     "output_type": "stream",
     "text": [
      "Показатели дефолтных клиентов\n",
      "Признак age  3.6381409207547923\n",
      "Признак decline_app_cnt  0.2768495369081859\n",
      "Признак bki_request_cnt  1.0230743250036847\n",
      "Признак income  3.387712665908843 \n",
      "\n",
      "Показатели недефолтных клиентов\n",
      "Признак age  3.6602984602417705\n",
      "Признак decline_app_cnt  0.1486009392416024\n",
      "Признак bki_request_cnt  0.8850354683908908\n",
      "Признак income  3.5166319808102218 \n",
      "\n",
      "Совпадение в процентах\n",
      "Признак age  99.39\n",
      "Признак decline_app_cnt  53.68\n",
      "Признак bki_request_cnt  86.51\n",
      "Признак income  96.33\n"
     ]
    }
   ],
   "source": [
    "print('Показатели дефолтных клиентов')\n",
    "df_ag1 = df_new.loc[df_new['default']==2]\n",
    "print('Признак age ',df_ag1['age'].mean())\n",
    "print('Признак decline_app_cnt ',df_ag1['decline_app_cnt'].mean())\n",
    "print('Признак bki_request_cnt ',df_ag1['bki_request_cnt'].mean())\n",
    "print('Признак income ',df_ag1['income'].mean(),'\\n')\n",
    "print('Показатели недефолтных клиентов')\n",
    "df_ag0 = df_new.loc[df_new['default']==1]\n",
    "print('Признак age ',df_ag0['age'].mean())\n",
    "print('Признак decline_app_cnt ',df_ag0['decline_app_cnt'].mean())\n",
    "print('Признак bki_request_cnt ',df_ag0['bki_request_cnt'].mean())\n",
    "print('Признак income ',df_ag0['income'].mean(),'\\n')\n",
    "print('Совпадение в процентах')\n",
    "print('Признак age ',round(df_ag1['age'].mean()*100/df_ag0['age'].mean(),2))\n",
    "print('Признак decline_app_cnt ',round(df_ag0['decline_app_cnt'].mean()*100/df_ag1['decline_app_cnt'].mean(),2))\n",
    "print('Признак bki_request_cnt ',round(df_ag0['bki_request_cnt'].mean()*100/df_ag1['bki_request_cnt'].mean(),2))\n",
    "print('Признак income ',round(df_ag1['income'].mean()*100/df_ag0['income'].mean(),2))"
   ]
  },
  {
   "cell_type": "markdown",
   "metadata": {},
   "source": [
    "### Средние значения признаков возраст (age) и доход (income) разбалансированны несущественно!!!\n",
    "Существенное отличие в признаках decline_app_cnt и bki_request_cnt, у дефолтных выше, что естественно, они внесут свой вклад в оценку клиента на дефолтность\n",
    "\n",
    "##### Значимость  переменных \n",
    "\n",
    "Для оценки значимости числовых переменных используем функцию f_classif из библиотеки sklearn.\n",
    "\n",
    "В основе метода оценки значимости переменных лежит однофакторный дисперсионный анализ (ANOVA). Основу процедуры составляет обобщение результатов двух выборочных t-тестов для независимых выборок.\n",
    "\n",
    "В качестве меры значимости используется значение f-статистики. Чем значение статистики выше, тем меньше вероятность того, что средние значения не отличаются, и тем важнее данный признак модели."
   ]
  },
  {
   "cell_type": "code",
   "execution_count": 48,
   "metadata": {},
   "outputs": [
    {
     "data": {
      "text/plain": [
       "<AxesSubplot:>"
      ]
     },
     "execution_count": 48,
     "metadata": {},
     "output_type": "execute_result"
    },
    {
     "data": {
      "image/png": "[encoded data removed]",
      "text/plain": [
       "<Figure size 1440x720 with 1 Axes>"
      ]
     },
     "metadata": {
      "needs_background": "light"
     },
     "output_type": "display_data"
    }
   ],
   "source": [
    "import warnings # игнорирование предупреждений\n",
    "warnings.filterwarnings('ignore')\n",
    "\n",
    "num_cols = list(df_new)\n",
    "plt.figure(figsize=(20,10))\n",
    "imp_num = Series(f_classif(df_new[num_cols], df_new['default'])[0], index = num_cols)\n",
    "imp_num.sort_values(inplace = True)\n",
    "imp_num.plot(kind = 'barh')"
   ]
  },
  {
   "cell_type": "markdown",
   "metadata": {},
   "source": [
    "Для обнаружения возможных взаимосвязей признаков выведем тепловую карту матрицы корреляции"
   ]
  },
  {
   "cell_type": "code",
   "execution_count": 49,
   "metadata": {},
   "outputs": [
    {
     "data": {
      "text/plain": [
       "<AxesSubplot:>"
      ]
     },
     "execution_count": 49,
     "metadata": {},
     "output_type": "execute_result"
    },
    {
     "data": {
      "image/png": "[encoded data removed]",
      "text/plain": [
       "<Figure size 1440x1440 with 2 Axes>"
      ]
     },
     "metadata": {
      "needs_background": "light"
     },
     "output_type": "display_data"
    }
   ],
   "source": [
    "plt.figure(figsize=(20,20))\n",
    "myBasicCorr = df_new.corr(method='pearson')\n",
    "sns.heatmap(myBasicCorr, annot = True)"
   ]
  },
  {
   "cell_type": "markdown",
   "metadata": {},
   "source": [
    "Наблюдается сильная взаимосвязь двух признаков education_SCH (школа) c education_GRD (бакалавриат), коэффициент корреляции которой равен 0.71.\n",
    "\n",
    "С учётом графика значимости признаков удалим менее значимый признак education_GRD\n",
    "\n",
    "Так же наблюдается сильная взаимосвязь двух признаков home_address_1  c home_address_2, коэффициент корреляции которой равен 0.96.\n",
    "\n",
    "С учётом графика значимости признаков удалим менее значимый признак home_address_1"
   ]
  },
  {
   "cell_type": "code",
   "execution_count": 50,
   "metadata": {},
   "outputs": [],
   "source": [
    "# Удаляем признак education_GRD из датасета\n",
    "df_new = df_new.drop('education_GRD', axis=1)\n",
    "# Удаляем признак home_address_1 из датасета\n",
    "df_new = df_new.drop('home_address_1', axis=1)"
   ]
  },
  {
   "cell_type": "markdown",
   "metadata": {},
   "source": [
    "##### Для обучения выберем две модели LogisticRegression() и MLPClassifier().\n",
    "По первой модели осуществим подбор гипперпараметров таким образом, чтобы оценка точности модели была близка к оценке точности, полученной по второй модели - MLPClassifier()."
   ]
  },
  {
   "cell_type": "markdown",
   "metadata": {},
   "source": [
    "### Модель MLPClassifier()"
   ]
  },
  {
   "cell_type": "code",
   "execution_count": 51,
   "metadata": {},
   "outputs": [],
   "source": [
    "# Стандартизация числовых переменных\n",
    "num_cols = list(df_new)\n",
    "num_cols.remove('default')\n",
    "Y = df_new['default'].values\n",
    "\n",
    "# Удаляем признак default из датасета X\n",
    "df = df_new.drop('default', axis=1)\n",
    "\n",
    "X = StandardScaler().fit_transform(df[num_cols].values)\n",
    "\n",
    "# Разделяем данные на тренировочные и тестовые\n",
    "X_train, X_test, y_train, y_test = train_test_split(X, Y, test_size=TEST_SIZE, random_state=RANDOM_SEED)"
   ]
  },
  {
   "cell_type": "code",
   "execution_count": 52,
   "metadata": {},
   "outputs": [
    {
     "name": "stdout",
     "output_type": "stream",
     "text": [
      "Оценка точности MLP модели\n",
      "0.8607866626734552 \n",
      "\n"
     ]
    }
   ],
   "source": [
    "myModel_MLP = MLPClassifier(random_state=RANDOM_SEED, max_iter=200).fit(X_train, y_train)\n",
    "y_pred=myModel_MLP.predict(X_test)\n",
    "print('Оценка точности MLP модели')\n",
    "print(accuracy_score(y_pred, y_test),'\\n')"
   ]
  },
  {
   "cell_type": "markdown",
   "metadata": {},
   "source": [
    "# № 2 Обучение модели LogisticRegression() \n",
    "\n",
    "Обработаем исходный датасет train_baza в соответствии с результатами полученными на стадии предобработки исходных данных:\n",
    "1. Заполним пропуски признака education значением GRD\n",
    "2. Удалим признак sex - пол\n",
    "3. Удалим признак work_address - адрес оффиса\n",
    "4. Распределим категориальные признаки:\n",
    "-  education\n",
    "-  car\n",
    "-  car_type\n",
    "-  good_work \n",
    "-  home_address \n",
    "-  work_address \n",
    "-  foreign_passport\n",
    "5. Удалим признаки:\n",
    "-  education_GRD\n",
    "6. Нормализуем данные\n",
    "- Понижаем разрядность значений столбца income на 3 разряда\n",
    "- Нормализуем методом \"прокола\" (метод разработан автором проекта для понижения степени разряженности матрицы данных)\n",
    "7. Выделим целевой признак default\n",
    "8. Фиксируем конечные объём данных перед разбиением на тренировочную и тестовую части путём удаления столбцов default и client_id\n",
    "9. Разобъём данные с помощью метода train_test_split на тренировочную и тестовую в соотношении 0.3 c перемешиванием\n",
    "10. Нормализуем полученные тренировочные и тестовые данные методом fit_transform класса StandardScaler()\n",
    "11. Проведём процедуру оптимизации гиперпарматров модели LogisticRegression()\n",
    "12. Обучим модель и расчитаем прогнозируемый целевой признак default"
   ]
  },
  {
   "cell_type": "code",
   "execution_count": 53,
   "metadata": {},
   "outputs": [
    {
     "data": {
      "text/plain": [
       "['l2',\n",
       " 1.0,\n",
       " 0.8686540198735321,\n",
       " 0.8730064093009391,\n",
       "        client_id  default  predicted\n",
       " 0          25905        0          0\n",
       " 1          63161        0          0\n",
       " 2          25887        0          0\n",
       " 3          16222        0          0\n",
       " 4         101655        0          0\n",
       " ...          ...      ...        ...\n",
       " 73794      54887        0          0\n",
       " 73795      76821        0          0\n",
       " 73796     103695        0          0\n",
       " 73797        861        1          0\n",
       " 73798      15796        0          0\n",
       " \n",
       " [73799 rows x 3 columns],\n",
       " LogisticRegression(random_state=45)]"
      ]
     },
     "execution_count": 53,
     "metadata": {},
     "output_type": "execute_result"
    }
   ],
   "source": [
    "# Импорт библиотек\n",
    "import pandas as pd\n",
    "import numpy as np\n",
    "\n",
    "import matplotlib.pyplot as plt\n",
    "import seaborn as sns\n",
    "\n",
    "from sklearn.feature_selection import f_classif\n",
    "from sklearn.preprocessing import LabelEncoder, StandardScaler\n",
    "\n",
    "from sklearn.model_selection import train_test_split\n",
    "from sklearn.linear_model import LogisticRegression\n",
    "from sklearn.tree import DecisionTreeClassifier\n",
    "\n",
    "from sklearn.model_selection import GridSearchCV\n",
    "\n",
    "from sklearn.metrics import accuracy_score\n",
    "\n",
    "rezalt = [] # В список будут заносится результаты работы функции:\n",
    "#     1. Оптимальный указатель нормы штрафа - индекс 0\n",
    "#     2. Оптимальный инверсия силы регуляризации - индекс 1\n",
    "#     3. Средняя точность для заданных тестовых данных и меток тестовой выборки - - индекс 2\n",
    "#     4. Классификационная оценка точности всего датасета - индекс 3\n",
    "#     5. Датасет sample_submission с столбцами: - индекс 4\n",
    "#         - client_id - индификационный номер клиента;\n",
    "#         - default - целевой признак дефолтности;\n",
    "#         - predicted - предсказанная дефолтность.\n",
    "#     6. Обученная модель LogisticRegression - индекс 5\n",
    "\n",
    "\n",
    "# Фиксируем RANDOM_SEED и TEST_SIZE, чтобы ваши эксперименты были воспроизводимы!\n",
    "RANDOM_SEED = 45\n",
    "TEST_SIZE = 0.3\n",
    "\n",
    "# Загружаем представленные данные\n",
    "train_baza = pd.read_csv('сredit_train.csv')\n",
    "\n",
    "# Формируем sample_submission\n",
    "sample_submission = train_baza[['client_id','default']]\n",
    "\n",
    "# Заменим пропуски - nan  в столбце education на GRD\n",
    "train_baza['education'] = train_baza['education'].fillna('GRD')\n",
    "\n",
    "# Удаляем признак sex и work_address из датасета\n",
    "train_baza = train_baza.drop(['sex','work_address'], axis=1)\n",
    "\n",
    "# Признаки списка col_bin - наименований столбцов преобразуем с использованием метода get_dummies\n",
    "col_bin = ['education','car','car_type','good_work','home_address','foreign_passport']\n",
    "for col in col_bin:\n",
    "    train_baza = pd.get_dummies(train_baza, columns=[col], dummy_na=False)\n",
    "\n",
    "# Удаляем признак education_GRD из датасета\n",
    "train_baza = train_baza.drop(['education_GRD'], axis=1)\n",
    "\n",
    "# Понижаем разрядность значений столбца income на 3 разряда\n",
    "train_baza['income'] = train_baza['income']/1000\n",
    "\n",
    "# С целью уменьшения степени разряженности данных нормализуем  методом \"прокола\" (метод разработан автором этого проекта)\n",
    "col_num = list(train_baza)\n",
    "col_num.remove('client_id')\n",
    "col_num.remove('default')\n",
    "for col in col_num:\n",
    "    n = train_baza[col].sum()\n",
    "    for x in range(0,len(train_baza)):\n",
    "        train_baza.at[x,col] = n - train_baza[col][x]# Прокол, поднятие значения ячейки на уровень суммы столбцы\n",
    "        # с последующим вычитанием значения находящегося в этой ячейке\n",
    "    try:\n",
    "        train_baza[col] = np.log(train_baza[col]+1) # Логарифмирование полученного столбца\n",
    "    except (ValueError, AttributeError):\n",
    "        pass\n",
    "\n",
    "# Выделим целевой признак default\n",
    "Y = list(sample_submission['default'])\n",
    "\n",
    "# Фиксируем конечные объём данных перед разбиением на тренировочную и тестовую части путём удаления\n",
    "# столбцов default и client_id\n",
    "X = train_baza.drop(['client_id','default'], axis=1)\n",
    "\n",
    "# Проведём разбиение X и Y на обучающий X_train и Y_train, тестовый X_test и Y_test. Разобьём с перемешиванием, доля тестовой\n",
    "# выборки определим как 33%\n",
    "\n",
    "X_train, X_test, Y_train, Y_test = train_test_split(X, Y,  test_size=TEST_SIZE, random_state=RANDOM_SEED, shuffle=True)\n",
    "\n",
    "# Нормализуем полученные тренировочные и тестовые данные методом fit_transform класса StandardScaler()\n",
    "col_num = list(X_train)\n",
    "X_train = StandardScaler().fit_transform(X_train[col_num].values)\n",
    "X_test = StandardScaler().fit_transform(X_test[col_num].values)\n",
    "\n",
    "# Проведём процедуру оптимизации гиперпарматров модели LogisticRegression()\n",
    "# Добавим типы регуляризации\n",
    "penalty = ['l1', 'l2']\n",
    "\n",
    "# Зададим ограничения для параметра регуляризации\n",
    "C = np.logspace(0, 4, 10)\n",
    "\n",
    "# Создадим гиперпараметры\n",
    "hyperparameters = dict(C=C, penalty=penalty)\n",
    "\n",
    "model = LogisticRegression()\n",
    "model.fit(X_train, Y_train)\n",
    "\n",
    "# Создаем сетку поиска с использованием 5-кратной перекрестной проверки\n",
    "hyper_CV = GridSearchCV(model, hyperparameters, cv=5, verbose=0)   \n",
    "\n",
    "best_model = hyper_CV.fit(X_train, Y_train)\n",
    "\n",
    "penalty = best_model.best_estimator_.get_params()['penalty']\n",
    "rezalt.append(best_model.best_estimator_.get_params()['penalty'])\n",
    "\n",
    "С = best_model.best_estimator_.get_params()['C']\n",
    "rezalt.append(best_model.best_estimator_.get_params()['C'])\n",
    "\n",
    "# Обучаем модель используя оптимизированные данные на тернинговой выборке\n",
    "classifier = LogisticRegression(C = С, penalty = penalty,solver='lbfgs',random_state = RANDOM_SEED)\n",
    "classifier.fit(X_train, Y_train)\n",
    "\n",
    "# Получаем оценку обученной модели на тестовой выборке\n",
    "rezalt.append(classifier.score(X_test, Y_test))\n",
    "\n",
    "# Получаем прогноз дефолтности клиентов по всему датасету\n",
    "predicted_Y = classifier.predict(X)\n",
    "\n",
    "# Получаем оценку обученной модели по всему датасету\n",
    "rezalt.append(accuracy_score(predicted_Y, Y))\n",
    "\n",
    "# Формируем выходной датасет sample_submission\n",
    "sample_submission['predicted'] = 0\n",
    "for x in range(0,len(sample_submission)):\n",
    "    sample_submission.at[x,'predicted'] = predicted_Y[x]\n",
    "rezalt.append(sample_submission)        \n",
    "rezalt.append(classifier)\n",
    "    \n",
    "rezalt"
   ]
  },
  {
   "cell_type": "code",
   "execution_count": 54,
   "metadata": {},
   "outputs": [],
   "source": [
    "predicted_y = rezalt[5].predict(X_test)"
   ]
  },
  {
   "cell_type": "code",
   "execution_count": 55,
   "metadata": {},
   "outputs": [
    {
     "name": "stdout",
     "output_type": "stream",
     "text": [
      "426 |  Дефолтный клиент ->  5461 0\n",
      "1485 |  Дефолтный клиент ->  89027 0\n",
      "1560 |  Дефолтный клиент ->  59309 0\n",
      "1652 |  Дефолтный клиент ->  30966 0\n",
      "1724 |  Дефолтный клиент ->  93042 1\n",
      "1743 |  Дефолтный клиент ->  105128 0\n",
      "1783 |  Дефолтный клиент ->  94726 0\n",
      "1863 |  Дефолтный клиент ->  25479 0\n",
      "2662 |  Дефолтный клиент ->  106682 0\n",
      "2975 |  Дефолтный клиент ->  45434 1\n",
      "3435 |  Дефолтный клиент ->  103248 0\n",
      "3478 |  Дефолтный клиент ->  17713 0\n",
      "3579 |  Дефолтный клиент ->  85369 0\n",
      "3906 |  Дефолтный клиент ->  97478 0\n",
      "4233 |  Дефолтный клиент ->  74721 1\n",
      "4276 |  Дефолтный клиент ->  68612 0\n",
      "4354 |  Дефолтный клиент ->  44633 0\n",
      "5068 |  Дефолтный клиент ->  102094 1\n",
      "5570 |  Дефолтный клиент ->  90056 0\n",
      "5573 |  Дефолтный клиент ->  18767 0\n",
      "5874 |  Дефолтный клиент ->  61835 0\n",
      "6571 |  Дефолтный клиент ->  96869 0\n",
      "7801 |  Дефолтный клиент ->  71798 0\n",
      "8619 |  Дефолтный клиент ->  11516 0\n",
      "9045 |  Дефолтный клиент ->  27961 0\n",
      "9454 |  Дефолтный клиент ->  44129 0\n",
      "9589 |  Дефолтный клиент ->  91423 0\n",
      "9658 |  Дефолтный клиент ->  37884 0\n",
      "9703 |  Дефолтный клиент ->  106673 0\n",
      "9872 |  Дефолтный клиент ->  8837 1\n",
      "10012 |  Дефолтный клиент ->  106889 0\n",
      "10429 |  Дефолтный клиент ->  103059 0\n",
      "10853 |  Дефолтный клиент ->  47816 0\n",
      "11469 |  Дефолтный клиент ->  55419 0\n",
      "12529 |  Дефолтный клиент ->  62531 0\n",
      "12538 |  Дефолтный клиент ->  86758 0\n",
      "13070 |  Дефолтный клиент ->  19303 0\n",
      "13128 |  Дефолтный клиент ->  63847 0\n",
      "13162 |  Дефолтный клиент ->  9675 0\n",
      "13272 |  Дефолтный клиент ->  14566 0\n",
      "13363 |  Дефолтный клиент ->  19322 0\n",
      "13524 |  Дефолтный клиент ->  95383 0\n",
      "13796 |  Дефолтный клиент ->  82885 0\n",
      "13878 |  Дефолтный клиент ->  52589 0\n",
      "15258 |  Дефолтный клиент ->  33868 0\n",
      "15357 |  Дефолтный клиент ->  108247 0\n",
      "15988 |  Дефолтный клиент ->  99758 0\n",
      "16610 |  Дефолтный клиент ->  82295 0\n",
      "17562 |  Дефолтный клиент ->  33820 1\n",
      "17674 |  Дефолтный клиент ->  6239 0\n",
      "17741 |  Дефолтный клиент ->  33842 0\n",
      "17963 |  Дефолтный клиент ->  66908 0\n",
      "18245 |  Дефолтный клиент ->  12614 0\n",
      "18781 |  Дефолтный клиент ->  96485 0\n",
      "18927 |  Дефолтный клиент ->  40558 0\n",
      "19382 |  Дефолтный клиент ->  108995 0\n",
      "20040 |  Дефолтный клиент ->  47790 0\n",
      "20325 |  Дефолтный клиент ->  40289 0\n",
      "21069 |  Дефолтный клиент ->  10507 0\n",
      "21460 |  Дефолтный клиент ->  28311 0\n",
      "21755 |  Дефолтный клиент ->  14325 0\n",
      "21782 |  Дефолтный клиент ->  82200 0\n"
     ]
    }
   ],
   "source": [
    "for x in range(len(predicted_y)):\n",
    "    if (predicted_y[x] == 1):\n",
    "        print(x,'|  Дефолтный клиент -> ',sample_submission['client_id'][x],sample_submission['default'][x])   "
   ]
  },
  {
   "cell_type": "markdown",
   "metadata": {},
   "source": [
    "#### Визуализируем логистическую регрессию"
   ]
  },
  {
   "cell_type": "code",
   "execution_count": 56,
   "metadata": {},
   "outputs": [
    {
     "data": {
      "image/png": "[encoded data removed]",
      "text/plain": [
       "<Figure size 720x432 with 1 Axes>"
      ]
     },
     "metadata": {
      "needs_background": "light"
     },
     "output_type": "display_data"
    }
   ],
   "source": [
    "probs = rezalt[5].predict_proba(X)\n",
    "probs = probs[:,1]\n",
    "\n",
    "from sklearn.metrics import roc_curve\n",
    "from sklearn.metrics import roc_auc_score\n",
    "\n",
    "fpr, tpr, threshold = roc_curve(Y, probs)\n",
    "roc_auc = roc_auc_score(Y, probs)\n",
    "\n",
    "plt.figure()\n",
    "plt.plot([0, 1], label='Основание', linestyle='--')\n",
    "plt.plot(fpr, tpr, label = 'Регрессия')\n",
    "plt.title('Логистическая регрессия ROC AUC = %0.3f' % roc_auc)\n",
    "plt.ylabel('Истинно положительный')\n",
    "plt.xlabel('Ложно положительный')\n",
    "plt.legend(loc = 'lower right')\n",
    "plt.show()"
   ]
  },
  {
   "cell_type": "markdown",
   "metadata": {},
   "source": [
    "#### Выводы:\n",
    "           1. Проведён предварительный анализ представленного датасета;\n",
    "           2. Проведены процедуры предварительной обработки датасета;\n",
    "           3. Применены несколько методов для принятия решений для оптимальной обработки датасета;\n",
    "           4. Составлен пошаговый код для применения логистической регрессии и оптимизации её гиперпараметров;\n",
    "           5. С учётом выше указанных пунктов создана функция credit_scoring_VP позволяющая обрабатывать и получать\n",
    "           параметры характерезующие созданную модель к конкретному!!! датасету.\n",
    "           6. Функция выводит результат в виде списка, элементами которого являются\n",
    "              1. Оптимальный указатель нормы штрафа - индекс 0\n",
    "              2. Оптимальный инверсия силы регуляризации - индекс 1\n",
    "              3. Средняя точность для заданных тестовых данных и меток тестовой выборки - - индекс 2\n",
    "              4. Классификационная оценка точности всего датасета - индекс 3\n",
    "              5. Датасет sample_submission с столбцами: - индекс 4\n",
    "                 - client_id - индификационный номер клиента;\n",
    "                 - default - целевой признак дефолтности;\n",
    "                 - predicted - предсказанная дефолтность."
   ]
  },
  {
   "cell_type": "code",
   "execution_count": null,
   "metadata": {},
   "outputs": [],
   "source": []
  }
 ],
 "metadata": {
  "kernelspec": {
   "display_name": "Python 3",
   "language": "python",
   "name": "python3"
  },
  "language_info": {
   "codemirror_mode": {
    "name": "ipython",
    "version": 3
   },
   "file_extension": ".py",
   "mimetype": "text/x-python",
   "name": "python",
   "nbconvert_exporter": "python",
   "pygments_lexer": "ipython3",
   "version": "3.8.3"
  }
 },
 "nbformat": 4,
 "nbformat_minor": 4
}
